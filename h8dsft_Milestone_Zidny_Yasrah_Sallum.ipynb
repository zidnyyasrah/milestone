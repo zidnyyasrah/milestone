{
  "nbformat": 4,
  "nbformat_minor": 0,
  "metadata": {
    "colab": {
      "provenance": []
    },
    "kernelspec": {
      "name": "python3",
      "display_name": "Python 3"
    },
    "language_info": {
      "name": "python"
    }
  },
  "cells": [
    {
      "cell_type": "markdown",
      "source": [
        "# **Milestone 1**"
      ],
      "metadata": {
        "id": "b5SxIa5zfvDl"
      }
    },
    {
      "cell_type": "markdown",
      "source": [
        "## **Perkenalan**\n",
        "\n",
        "**Halo!**\n",
        "\n",
        "Saya **Zidny Yasrah Sallum**, student di hacktiv8 batch RMT-20. Dimilestone pertama ini saya akan menganalisa dataset tentang pokemon yang diambil dari kaggle berjudul \"The Complete Pokemon Dataset\", diupload oleh Rounak Banik yaitu dataset yang berisi sekitar 800 data dari berbagai macam pokemon generasi pertama sampai ke tujuh. Dataset ini berisi data seperti nama pokemonnya, attack, HP, generasi, berat dan sebagainya.\n",
        "\n",
        "Link Dashboard : https://lookerstudio.google.com/reporting/bcf63884-daaf-4eb9-81f1-1cb1f6457a7b\n",
        "\n",
        "**\" Gotta catch em' all! \"**\n"
      ],
      "metadata": {
        "id": "AcBArE-1jWMy"
      }
    },
    {
      "cell_type": "markdown",
      "source": [
        "## **Identifikasi Masalah**\n",
        "\n",
        "### **Overview**\n",
        "> Pokémon (ポケモン), adalah salah satu waralaba media yang dimiliki oleh perusahaan permainan video Nintendo dan diciptakan oleh Satoshi Tajiri pada 1995. Pada mulanya, Pokémon adalah seri permainan video yang identik dengan konsol Game Boy. Pokémon merupakan permainan video tersukses kedua di dunia setelah serial Mario yang juga diciptakan oleh Nintendo.  Waralaba Pokémon sendiri muncul dalam beragam bentuk, yaitu permainan video, anime, manga, trading cards, buku, mainan, dan masih banyak lagi.. _(source : https://id.wikipedia.org/wiki/Pok%C3%A9mon)_\n",
        "\n",
        "### **Latar Belakang**\n",
        "> Saya adalah seorang data analyst yang mendapatkan seorang client yang berprofesi sebagai trainer pokemon professional. Dia sudah memiliki pengalaman bertahun-tahun, namun selama karirnya dia masih sering mengalami kekalahan ketika bertanding. Ingin lepas dari kekalahan itu, dia meminta saya untuk menganalisis berbagai jenis pokemon untuk mencari tau pokemon terbaik dalam segala aspek yang bisa dia gunakan untuk memenangkan segala pertandingan.\n",
        "\n",
        "### **Problem Statement**\n",
        "> Menganalisa pokemon terbaik yang diukur dari base statnya di game pokemon dari generasi pertama(1996) sampai generasi ketujuh(2016)\n",
        "\n",
        "### **Penjabaran Masalah**\n",
        "> * Berapa jumlah pokemon dari tiap generasi?\n",
        "* Jumlah pokemon berdasarkan tipenya\n",
        "* Perbedaan single type dan dual type pokemon\n",
        "* Pokemon yang paling mudah dan paling sulit untuk ditangkap\n",
        "* central tendency dari masing-masing tipe pokemon berdasarkan overall statnya\n",
        "* Perbandingan jumlah pokemon legendary dengan yang non-legendary\n",
        "* Apakah ada pokemon non-legendary yang lebih kuat dari pokemon legendary?\n",
        "* hipotesis testing : apakah semua pokemon legendary memiliki rata-rata overall base stat yang lebih tinggi dari pokemon biasa?\n",
        "* Bagaimana korelasi antara capture_rate dari pokemon terhadap overall base statnya?\n"
      ],
      "metadata": {
        "id": "GSO9f9-c3LKo"
      }
    },
    {
      "cell_type": "markdown",
      "source": [
        "## **Import Libraries**"
      ],
      "metadata": {
        "id": "SNKFWOKOjC-j"
      }
    },
    {
      "cell_type": "code",
      "execution_count": 36,
      "metadata": {
        "id": "Qrfo155PfsBj"
      },
      "outputs": [],
      "source": [
        "import pandas as pd\n",
        "import numpy as np\n",
        "import matplotlib.pyplot as plt\n",
        "import seaborn as sns\n",
        "import plotly.express as px\n",
        "import plotly.graph_objects as go\n",
        "from scipy import stats\n",
        "from math import sqrt"
      ]
    },
    {
      "cell_type": "markdown",
      "source": [
        "## **Data Loading**"
      ],
      "metadata": {
        "id": "GErJEAQujjpT"
      }
    },
    {
      "cell_type": "markdown",
      "source": [
        "link dataset : https://www.kaggle.com/datasets/rounakbanik/pokemon\n",
        "\n"
      ],
      "metadata": {
        "id": "Gz2G3Eie9h4P"
      }
    },
    {
      "cell_type": "markdown",
      "source": [
        "Dikarenakan banyaknya kolom pada dataset, saya harus memfilter dulu kolom yang saya butuhkan, berikut query yang saya gunakan di bigquery\n",
        "\n",
        "```\n",
        "SELECT\n",
        "      name, abilities, classfication, type1, type2, attack, hp, defense, speed, weight_kg,\n",
        "      height_m, generation, base_happiness, capture_rate, experience_growth, pokedex_number,\n",
        "      sp_attack, sp_defense, is_legendary\n",
        "FROM\n",
        "      `hacktiv8-zidny.pokemon.pokemon_data`\n",
        "```\n",
        "Output dari querynya saya export ke local dan diupload ke github repository"
      ],
      "metadata": {
        "id": "vF2Md2256lEO"
      }
    },
    {
      "cell_type": "code",
      "source": [
        "# Saya menyimpan file csv ke repo github saya sendiri agar bisa diimport dengan mudah\n",
        "url = 'https://raw.githubusercontent.com/zidnyyasrah/milestone/main/filtered_pokemon_data.csv'\n",
        "df = pd.read_csv(url)"
      ],
      "metadata": {
        "id": "iL4-IfZKgrKb"
      },
      "execution_count": 37,
      "outputs": []
    },
    {
      "cell_type": "code",
      "source": [
        "# Menampilkan 5 baris pertama dari dataset\n",
        "df.head()"
      ],
      "metadata": {
        "colab": {
          "base_uri": "https://localhost:8080/",
          "height": 409
        },
        "id": "jjVwVKPvhzMH",
        "outputId": "c01b3947-e200-4cf0-bc70-fc1ea938ffd4"
      },
      "execution_count": 38,
      "outputs": [
        {
          "output_type": "execute_result",
          "data": {
            "text/plain": [
              "       name                                  abilities       classfication  \\\n",
              "0  Tornadus    ['Prankster', 'Defiant', 'Regenerator']     Cyclone Pokémon   \n",
              "1  Caterpie                ['Shield Dust', 'Run Away']        Worm Pokémon   \n",
              "2   Metapod                              ['Shed Skin']      Cocoon Pokémon   \n",
              "3    Pinsir  ['Hyper Cutter', 'Mold Breaker', 'Moxie']  Stagbeetle Pokémon   \n",
              "4    Pineco                     ['Sturdy', 'Overcoat']     Bagworm Pokémon   \n",
              "\n",
              "    type1 type2  attack  hp  defense  speed  weight_kg  height_m  generation  \\\n",
              "0  flying   NaN     100  79       80    121       63.0       1.5           5   \n",
              "1     bug   NaN      30  45       35     45        2.9       0.3           1   \n",
              "2     bug   NaN      20  50       55     30        9.9       0.7           1   \n",
              "3     bug   NaN     155  65      120    105       55.0       1.5           1   \n",
              "4     bug   NaN      65  50       90     15        7.2       0.6           2   \n",
              "\n",
              "   base_happiness capture_rate  experience_growth  pokedex_number  sp_attack  \\\n",
              "0              90            3            1250000             641        110   \n",
              "1              70          255            1000000              10         20   \n",
              "2              70          120            1000000              11         25   \n",
              "3              70           45            1250000             127         65   \n",
              "4              70          190            1000000             204         35   \n",
              "\n",
              "   sp_defense  is_legendary  \n",
              "0          90             1  \n",
              "1          20             0  \n",
              "2          25             0  \n",
              "3          90             0  \n",
              "4          35             0  "
            ],
            "text/html": [
              "\n",
              "  <div id=\"df-85d4d3e9-ebb6-4605-8381-ca969b5ac651\">\n",
              "    <div class=\"colab-df-container\">\n",
              "      <div>\n",
              "<style scoped>\n",
              "    .dataframe tbody tr th:only-of-type {\n",
              "        vertical-align: middle;\n",
              "    }\n",
              "\n",
              "    .dataframe tbody tr th {\n",
              "        vertical-align: top;\n",
              "    }\n",
              "\n",
              "    .dataframe thead th {\n",
              "        text-align: right;\n",
              "    }\n",
              "</style>\n",
              "<table border=\"1\" class=\"dataframe\">\n",
              "  <thead>\n",
              "    <tr style=\"text-align: right;\">\n",
              "      <th></th>\n",
              "      <th>name</th>\n",
              "      <th>abilities</th>\n",
              "      <th>classfication</th>\n",
              "      <th>type1</th>\n",
              "      <th>type2</th>\n",
              "      <th>attack</th>\n",
              "      <th>hp</th>\n",
              "      <th>defense</th>\n",
              "      <th>speed</th>\n",
              "      <th>weight_kg</th>\n",
              "      <th>height_m</th>\n",
              "      <th>generation</th>\n",
              "      <th>base_happiness</th>\n",
              "      <th>capture_rate</th>\n",
              "      <th>experience_growth</th>\n",
              "      <th>pokedex_number</th>\n",
              "      <th>sp_attack</th>\n",
              "      <th>sp_defense</th>\n",
              "      <th>is_legendary</th>\n",
              "    </tr>\n",
              "  </thead>\n",
              "  <tbody>\n",
              "    <tr>\n",
              "      <th>0</th>\n",
              "      <td>Tornadus</td>\n",
              "      <td>['Prankster', 'Defiant', 'Regenerator']</td>\n",
              "      <td>Cyclone Pokémon</td>\n",
              "      <td>flying</td>\n",
              "      <td>NaN</td>\n",
              "      <td>100</td>\n",
              "      <td>79</td>\n",
              "      <td>80</td>\n",
              "      <td>121</td>\n",
              "      <td>63.0</td>\n",
              "      <td>1.5</td>\n",
              "      <td>5</td>\n",
              "      <td>90</td>\n",
              "      <td>3</td>\n",
              "      <td>1250000</td>\n",
              "      <td>641</td>\n",
              "      <td>110</td>\n",
              "      <td>90</td>\n",
              "      <td>1</td>\n",
              "    </tr>\n",
              "    <tr>\n",
              "      <th>1</th>\n",
              "      <td>Caterpie</td>\n",
              "      <td>['Shield Dust', 'Run Away']</td>\n",
              "      <td>Worm Pokémon</td>\n",
              "      <td>bug</td>\n",
              "      <td>NaN</td>\n",
              "      <td>30</td>\n",
              "      <td>45</td>\n",
              "      <td>35</td>\n",
              "      <td>45</td>\n",
              "      <td>2.9</td>\n",
              "      <td>0.3</td>\n",
              "      <td>1</td>\n",
              "      <td>70</td>\n",
              "      <td>255</td>\n",
              "      <td>1000000</td>\n",
              "      <td>10</td>\n",
              "      <td>20</td>\n",
              "      <td>20</td>\n",
              "      <td>0</td>\n",
              "    </tr>\n",
              "    <tr>\n",
              "      <th>2</th>\n",
              "      <td>Metapod</td>\n",
              "      <td>['Shed Skin']</td>\n",
              "      <td>Cocoon Pokémon</td>\n",
              "      <td>bug</td>\n",
              "      <td>NaN</td>\n",
              "      <td>20</td>\n",
              "      <td>50</td>\n",
              "      <td>55</td>\n",
              "      <td>30</td>\n",
              "      <td>9.9</td>\n",
              "      <td>0.7</td>\n",
              "      <td>1</td>\n",
              "      <td>70</td>\n",
              "      <td>120</td>\n",
              "      <td>1000000</td>\n",
              "      <td>11</td>\n",
              "      <td>25</td>\n",
              "      <td>25</td>\n",
              "      <td>0</td>\n",
              "    </tr>\n",
              "    <tr>\n",
              "      <th>3</th>\n",
              "      <td>Pinsir</td>\n",
              "      <td>['Hyper Cutter', 'Mold Breaker', 'Moxie']</td>\n",
              "      <td>Stagbeetle Pokémon</td>\n",
              "      <td>bug</td>\n",
              "      <td>NaN</td>\n",
              "      <td>155</td>\n",
              "      <td>65</td>\n",
              "      <td>120</td>\n",
              "      <td>105</td>\n",
              "      <td>55.0</td>\n",
              "      <td>1.5</td>\n",
              "      <td>1</td>\n",
              "      <td>70</td>\n",
              "      <td>45</td>\n",
              "      <td>1250000</td>\n",
              "      <td>127</td>\n",
              "      <td>65</td>\n",
              "      <td>90</td>\n",
              "      <td>0</td>\n",
              "    </tr>\n",
              "    <tr>\n",
              "      <th>4</th>\n",
              "      <td>Pineco</td>\n",
              "      <td>['Sturdy', 'Overcoat']</td>\n",
              "      <td>Bagworm Pokémon</td>\n",
              "      <td>bug</td>\n",
              "      <td>NaN</td>\n",
              "      <td>65</td>\n",
              "      <td>50</td>\n",
              "      <td>90</td>\n",
              "      <td>15</td>\n",
              "      <td>7.2</td>\n",
              "      <td>0.6</td>\n",
              "      <td>2</td>\n",
              "      <td>70</td>\n",
              "      <td>190</td>\n",
              "      <td>1000000</td>\n",
              "      <td>204</td>\n",
              "      <td>35</td>\n",
              "      <td>35</td>\n",
              "      <td>0</td>\n",
              "    </tr>\n",
              "  </tbody>\n",
              "</table>\n",
              "</div>\n",
              "      <button class=\"colab-df-convert\" onclick=\"convertToInteractive('df-85d4d3e9-ebb6-4605-8381-ca969b5ac651')\"\n",
              "              title=\"Convert this dataframe to an interactive table.\"\n",
              "              style=\"display:none;\">\n",
              "        \n",
              "  <svg xmlns=\"http://www.w3.org/2000/svg\" height=\"24px\"viewBox=\"0 0 24 24\"\n",
              "       width=\"24px\">\n",
              "    <path d=\"M0 0h24v24H0V0z\" fill=\"none\"/>\n",
              "    <path d=\"M18.56 5.44l.94 2.06.94-2.06 2.06-.94-2.06-.94-.94-2.06-.94 2.06-2.06.94zm-11 1L8.5 8.5l.94-2.06 2.06-.94-2.06-.94L8.5 2.5l-.94 2.06-2.06.94zm10 10l.94 2.06.94-2.06 2.06-.94-2.06-.94-.94-2.06-.94 2.06-2.06.94z\"/><path d=\"M17.41 7.96l-1.37-1.37c-.4-.4-.92-.59-1.43-.59-.52 0-1.04.2-1.43.59L10.3 9.45l-7.72 7.72c-.78.78-.78 2.05 0 2.83L4 21.41c.39.39.9.59 1.41.59.51 0 1.02-.2 1.41-.59l7.78-7.78 2.81-2.81c.8-.78.8-2.07 0-2.86zM5.41 20L4 18.59l7.72-7.72 1.47 1.35L5.41 20z\"/>\n",
              "  </svg>\n",
              "      </button>\n",
              "      \n",
              "  <style>\n",
              "    .colab-df-container {\n",
              "      display:flex;\n",
              "      flex-wrap:wrap;\n",
              "      gap: 12px;\n",
              "    }\n",
              "\n",
              "    .colab-df-convert {\n",
              "      background-color: #E8F0FE;\n",
              "      border: none;\n",
              "      border-radius: 50%;\n",
              "      cursor: pointer;\n",
              "      display: none;\n",
              "      fill: #1967D2;\n",
              "      height: 32px;\n",
              "      padding: 0 0 0 0;\n",
              "      width: 32px;\n",
              "    }\n",
              "\n",
              "    .colab-df-convert:hover {\n",
              "      background-color: #E2EBFA;\n",
              "      box-shadow: 0px 1px 2px rgba(60, 64, 67, 0.3), 0px 1px 3px 1px rgba(60, 64, 67, 0.15);\n",
              "      fill: #174EA6;\n",
              "    }\n",
              "\n",
              "    [theme=dark] .colab-df-convert {\n",
              "      background-color: #3B4455;\n",
              "      fill: #D2E3FC;\n",
              "    }\n",
              "\n",
              "    [theme=dark] .colab-df-convert:hover {\n",
              "      background-color: #434B5C;\n",
              "      box-shadow: 0px 1px 3px 1px rgba(0, 0, 0, 0.15);\n",
              "      filter: drop-shadow(0px 1px 2px rgba(0, 0, 0, 0.3));\n",
              "      fill: #FFFFFF;\n",
              "    }\n",
              "  </style>\n",
              "\n",
              "      <script>\n",
              "        const buttonEl =\n",
              "          document.querySelector('#df-85d4d3e9-ebb6-4605-8381-ca969b5ac651 button.colab-df-convert');\n",
              "        buttonEl.style.display =\n",
              "          google.colab.kernel.accessAllowed ? 'block' : 'none';\n",
              "\n",
              "        async function convertToInteractive(key) {\n",
              "          const element = document.querySelector('#df-85d4d3e9-ebb6-4605-8381-ca969b5ac651');\n",
              "          const dataTable =\n",
              "            await google.colab.kernel.invokeFunction('convertToInteractive',\n",
              "                                                     [key], {});\n",
              "          if (!dataTable) return;\n",
              "\n",
              "          const docLinkHtml = 'Like what you see? Visit the ' +\n",
              "            '<a target=\"_blank\" href=https://colab.research.google.com/notebooks/data_table.ipynb>data table notebook</a>'\n",
              "            + ' to learn more about interactive tables.';\n",
              "          element.innerHTML = '';\n",
              "          dataTable['output_type'] = 'display_data';\n",
              "          await google.colab.output.renderOutput(dataTable, element);\n",
              "          const docLink = document.createElement('div');\n",
              "          docLink.innerHTML = docLinkHtml;\n",
              "          element.appendChild(docLink);\n",
              "        }\n",
              "      </script>\n",
              "    </div>\n",
              "  </div>\n",
              "  "
            ]
          },
          "metadata": {},
          "execution_count": 38
        }
      ]
    },
    {
      "cell_type": "code",
      "source": [
        "# Menampilkan 5 baris terakhir dari dataset\n",
        "df.tail()"
      ],
      "metadata": {
        "colab": {
          "base_uri": "https://localhost:8080/",
          "height": 461
        },
        "id": "03y1dnEVnIxH",
        "outputId": "1c9b2397-0857-4453-e06e-2c4ab33ec8bb"
      },
      "execution_count": 39,
      "outputs": [
        {
          "output_type": "execute_result",
          "data": {
            "text/plain": [
              "          name                                     abilities  \\\n",
              "796    Stufful             ['Fluffy', 'Klutz', 'Cute Charm']   \n",
              "797     Bewear                ['Fluffy', 'Klutz', 'Unnerve']   \n",
              "798   Croagunk  ['Anticipation', 'Dry Skin', 'Poison Touch']   \n",
              "799  Toxicroak  ['Anticipation', 'Dry Skin', 'Poison Touch']   \n",
              "800    Gallade                    ['Steadfast', 'Justified']   \n",
              "\n",
              "           classfication    type1     type2  attack   hp  defense  speed  \\\n",
              "796     Flailing Pokémon   normal  fighting      75   70       50     50   \n",
              "797   Strong Arm Pokémon   normal  fighting     125  120       80     60   \n",
              "798  Toxic Mouth Pokémon   poison  fighting      61   48       40     50   \n",
              "799  Toxic Mouth Pokémon   poison  fighting     106   83       65     85   \n",
              "800        Blade Pokémon  psychic  fighting     165   68       95    110   \n",
              "\n",
              "     weight_kg  height_m  generation  base_happiness capture_rate  \\\n",
              "796        6.8       0.5           7              70          140   \n",
              "797      135.0       2.1           7              70           70   \n",
              "798       23.0       0.7           4             100          140   \n",
              "799       44.4       1.3           4              70           75   \n",
              "800       52.0       1.6           4              35           45   \n",
              "\n",
              "     experience_growth  pokedex_number  sp_attack  sp_defense  is_legendary  \n",
              "796            1000000             759         45          50             0  \n",
              "797            1000000             760         55          60             0  \n",
              "798            1000000             453         61          40             0  \n",
              "799            1000000             454         86          65             0  \n",
              "800            1250000             475         65         115             0  "
            ],
            "text/html": [
              "\n",
              "  <div id=\"df-e9747f09-75e4-42b0-84da-f7b3c8807ab4\">\n",
              "    <div class=\"colab-df-container\">\n",
              "      <div>\n",
              "<style scoped>\n",
              "    .dataframe tbody tr th:only-of-type {\n",
              "        vertical-align: middle;\n",
              "    }\n",
              "\n",
              "    .dataframe tbody tr th {\n",
              "        vertical-align: top;\n",
              "    }\n",
              "\n",
              "    .dataframe thead th {\n",
              "        text-align: right;\n",
              "    }\n",
              "</style>\n",
              "<table border=\"1\" class=\"dataframe\">\n",
              "  <thead>\n",
              "    <tr style=\"text-align: right;\">\n",
              "      <th></th>\n",
              "      <th>name</th>\n",
              "      <th>abilities</th>\n",
              "      <th>classfication</th>\n",
              "      <th>type1</th>\n",
              "      <th>type2</th>\n",
              "      <th>attack</th>\n",
              "      <th>hp</th>\n",
              "      <th>defense</th>\n",
              "      <th>speed</th>\n",
              "      <th>weight_kg</th>\n",
              "      <th>height_m</th>\n",
              "      <th>generation</th>\n",
              "      <th>base_happiness</th>\n",
              "      <th>capture_rate</th>\n",
              "      <th>experience_growth</th>\n",
              "      <th>pokedex_number</th>\n",
              "      <th>sp_attack</th>\n",
              "      <th>sp_defense</th>\n",
              "      <th>is_legendary</th>\n",
              "    </tr>\n",
              "  </thead>\n",
              "  <tbody>\n",
              "    <tr>\n",
              "      <th>796</th>\n",
              "      <td>Stufful</td>\n",
              "      <td>['Fluffy', 'Klutz', 'Cute Charm']</td>\n",
              "      <td>Flailing Pokémon</td>\n",
              "      <td>normal</td>\n",
              "      <td>fighting</td>\n",
              "      <td>75</td>\n",
              "      <td>70</td>\n",
              "      <td>50</td>\n",
              "      <td>50</td>\n",
              "      <td>6.8</td>\n",
              "      <td>0.5</td>\n",
              "      <td>7</td>\n",
              "      <td>70</td>\n",
              "      <td>140</td>\n",
              "      <td>1000000</td>\n",
              "      <td>759</td>\n",
              "      <td>45</td>\n",
              "      <td>50</td>\n",
              "      <td>0</td>\n",
              "    </tr>\n",
              "    <tr>\n",
              "      <th>797</th>\n",
              "      <td>Bewear</td>\n",
              "      <td>['Fluffy', 'Klutz', 'Unnerve']</td>\n",
              "      <td>Strong Arm Pokémon</td>\n",
              "      <td>normal</td>\n",
              "      <td>fighting</td>\n",
              "      <td>125</td>\n",
              "      <td>120</td>\n",
              "      <td>80</td>\n",
              "      <td>60</td>\n",
              "      <td>135.0</td>\n",
              "      <td>2.1</td>\n",
              "      <td>7</td>\n",
              "      <td>70</td>\n",
              "      <td>70</td>\n",
              "      <td>1000000</td>\n",
              "      <td>760</td>\n",
              "      <td>55</td>\n",
              "      <td>60</td>\n",
              "      <td>0</td>\n",
              "    </tr>\n",
              "    <tr>\n",
              "      <th>798</th>\n",
              "      <td>Croagunk</td>\n",
              "      <td>['Anticipation', 'Dry Skin', 'Poison Touch']</td>\n",
              "      <td>Toxic Mouth Pokémon</td>\n",
              "      <td>poison</td>\n",
              "      <td>fighting</td>\n",
              "      <td>61</td>\n",
              "      <td>48</td>\n",
              "      <td>40</td>\n",
              "      <td>50</td>\n",
              "      <td>23.0</td>\n",
              "      <td>0.7</td>\n",
              "      <td>4</td>\n",
              "      <td>100</td>\n",
              "      <td>140</td>\n",
              "      <td>1000000</td>\n",
              "      <td>453</td>\n",
              "      <td>61</td>\n",
              "      <td>40</td>\n",
              "      <td>0</td>\n",
              "    </tr>\n",
              "    <tr>\n",
              "      <th>799</th>\n",
              "      <td>Toxicroak</td>\n",
              "      <td>['Anticipation', 'Dry Skin', 'Poison Touch']</td>\n",
              "      <td>Toxic Mouth Pokémon</td>\n",
              "      <td>poison</td>\n",
              "      <td>fighting</td>\n",
              "      <td>106</td>\n",
              "      <td>83</td>\n",
              "      <td>65</td>\n",
              "      <td>85</td>\n",
              "      <td>44.4</td>\n",
              "      <td>1.3</td>\n",
              "      <td>4</td>\n",
              "      <td>70</td>\n",
              "      <td>75</td>\n",
              "      <td>1000000</td>\n",
              "      <td>454</td>\n",
              "      <td>86</td>\n",
              "      <td>65</td>\n",
              "      <td>0</td>\n",
              "    </tr>\n",
              "    <tr>\n",
              "      <th>800</th>\n",
              "      <td>Gallade</td>\n",
              "      <td>['Steadfast', 'Justified']</td>\n",
              "      <td>Blade Pokémon</td>\n",
              "      <td>psychic</td>\n",
              "      <td>fighting</td>\n",
              "      <td>165</td>\n",
              "      <td>68</td>\n",
              "      <td>95</td>\n",
              "      <td>110</td>\n",
              "      <td>52.0</td>\n",
              "      <td>1.6</td>\n",
              "      <td>4</td>\n",
              "      <td>35</td>\n",
              "      <td>45</td>\n",
              "      <td>1250000</td>\n",
              "      <td>475</td>\n",
              "      <td>65</td>\n",
              "      <td>115</td>\n",
              "      <td>0</td>\n",
              "    </tr>\n",
              "  </tbody>\n",
              "</table>\n",
              "</div>\n",
              "      <button class=\"colab-df-convert\" onclick=\"convertToInteractive('df-e9747f09-75e4-42b0-84da-f7b3c8807ab4')\"\n",
              "              title=\"Convert this dataframe to an interactive table.\"\n",
              "              style=\"display:none;\">\n",
              "        \n",
              "  <svg xmlns=\"http://www.w3.org/2000/svg\" height=\"24px\"viewBox=\"0 0 24 24\"\n",
              "       width=\"24px\">\n",
              "    <path d=\"M0 0h24v24H0V0z\" fill=\"none\"/>\n",
              "    <path d=\"M18.56 5.44l.94 2.06.94-2.06 2.06-.94-2.06-.94-.94-2.06-.94 2.06-2.06.94zm-11 1L8.5 8.5l.94-2.06 2.06-.94-2.06-.94L8.5 2.5l-.94 2.06-2.06.94zm10 10l.94 2.06.94-2.06 2.06-.94-2.06-.94-.94-2.06-.94 2.06-2.06.94z\"/><path d=\"M17.41 7.96l-1.37-1.37c-.4-.4-.92-.59-1.43-.59-.52 0-1.04.2-1.43.59L10.3 9.45l-7.72 7.72c-.78.78-.78 2.05 0 2.83L4 21.41c.39.39.9.59 1.41.59.51 0 1.02-.2 1.41-.59l7.78-7.78 2.81-2.81c.8-.78.8-2.07 0-2.86zM5.41 20L4 18.59l7.72-7.72 1.47 1.35L5.41 20z\"/>\n",
              "  </svg>\n",
              "      </button>\n",
              "      \n",
              "  <style>\n",
              "    .colab-df-container {\n",
              "      display:flex;\n",
              "      flex-wrap:wrap;\n",
              "      gap: 12px;\n",
              "    }\n",
              "\n",
              "    .colab-df-convert {\n",
              "      background-color: #E8F0FE;\n",
              "      border: none;\n",
              "      border-radius: 50%;\n",
              "      cursor: pointer;\n",
              "      display: none;\n",
              "      fill: #1967D2;\n",
              "      height: 32px;\n",
              "      padding: 0 0 0 0;\n",
              "      width: 32px;\n",
              "    }\n",
              "\n",
              "    .colab-df-convert:hover {\n",
              "      background-color: #E2EBFA;\n",
              "      box-shadow: 0px 1px 2px rgba(60, 64, 67, 0.3), 0px 1px 3px 1px rgba(60, 64, 67, 0.15);\n",
              "      fill: #174EA6;\n",
              "    }\n",
              "\n",
              "    [theme=dark] .colab-df-convert {\n",
              "      background-color: #3B4455;\n",
              "      fill: #D2E3FC;\n",
              "    }\n",
              "\n",
              "    [theme=dark] .colab-df-convert:hover {\n",
              "      background-color: #434B5C;\n",
              "      box-shadow: 0px 1px 3px 1px rgba(0, 0, 0, 0.15);\n",
              "      filter: drop-shadow(0px 1px 2px rgba(0, 0, 0, 0.3));\n",
              "      fill: #FFFFFF;\n",
              "    }\n",
              "  </style>\n",
              "\n",
              "      <script>\n",
              "        const buttonEl =\n",
              "          document.querySelector('#df-e9747f09-75e4-42b0-84da-f7b3c8807ab4 button.colab-df-convert');\n",
              "        buttonEl.style.display =\n",
              "          google.colab.kernel.accessAllowed ? 'block' : 'none';\n",
              "\n",
              "        async function convertToInteractive(key) {\n",
              "          const element = document.querySelector('#df-e9747f09-75e4-42b0-84da-f7b3c8807ab4');\n",
              "          const dataTable =\n",
              "            await google.colab.kernel.invokeFunction('convertToInteractive',\n",
              "                                                     [key], {});\n",
              "          if (!dataTable) return;\n",
              "\n",
              "          const docLinkHtml = 'Like what you see? Visit the ' +\n",
              "            '<a target=\"_blank\" href=https://colab.research.google.com/notebooks/data_table.ipynb>data table notebook</a>'\n",
              "            + ' to learn more about interactive tables.';\n",
              "          element.innerHTML = '';\n",
              "          dataTable['output_type'] = 'display_data';\n",
              "          await google.colab.output.renderOutput(dataTable, element);\n",
              "          const docLink = document.createElement('div');\n",
              "          docLink.innerHTML = docLinkHtml;\n",
              "          element.appendChild(docLink);\n",
              "        }\n",
              "      </script>\n",
              "    </div>\n",
              "  </div>\n",
              "  "
            ]
          },
          "metadata": {},
          "execution_count": 39
        }
      ]
    },
    {
      "cell_type": "code",
      "source": [
        "# Melihat generasi pokemon yang ada dataframe\n",
        "print(df['generation'].unique())"
      ],
      "metadata": {
        "colab": {
          "base_uri": "https://localhost:8080/"
        },
        "id": "7X-muyaUiM52",
        "outputId": "20b4a5f6-ce14-4fc2-e996-d408bba2f265"
      },
      "execution_count": 40,
      "outputs": [
        {
          "output_type": "stream",
          "name": "stdout",
          "text": [
            "[5 1 2 3 4 6 7]\n"
          ]
        }
      ]
    },
    {
      "cell_type": "markdown",
      "source": [
        "### **Penjelasan kolom**"
      ],
      "metadata": {
        "id": "02zzf_guOoPB"
      }
    },
    {
      "cell_type": "markdown",
      "source": [
        "\n",
        "\n",
        "Nama Kolom | Penjelasan\n",
        "--- | ---\n",
        "`name` | Nama dari pokemon\n",
        "`abilities` | list kemampuan dari pokemon\n",
        "`classification` | Klasifikasi dari pokemon\n",
        "`type1` | jenis utama Pokemon\n",
        "`type2` | jenis kedua Pokemon\n",
        "`attack` | Base attack dari pokemon\n",
        "`hp` | Base HP atau hitpoints dari pokemon\n",
        "`defense` | Base defense dari pokemon\n",
        "`speed` | Base speed dari pokemon\n",
        "`weight_kg` | berat pokemon dalam kilogram\n",
        "`height_m` | tinggi pokemon dalam meter\n",
        "`generation` | generasi pokemon pertama kali muncul\n",
        "`base_happiness` | Base happines dari pokemon\n",
        "`capture_rate` | Tingkat kesulitan untuk mendapatkan pokemon (%)\n",
        "`experience_growth` | Experience Growth dari Pokemon\n",
        "`pokedex_number` | nomor dari Pokemon di National Pokedex\n",
        "`sp_attack` | Base special attack pokemon\n",
        "`sp_defense` | Base special defense pokemon\n",
        "`is_legendary` | Status legendary pokemon (Jika 0 = non-legendary dan 1 = legendary)"
      ],
      "metadata": {
        "id": "H1r7SyhChqCn"
      }
    },
    {
      "cell_type": "markdown",
      "source": [
        "## **Data Cleaning**"
      ],
      "metadata": {
        "id": "_AZmymhMjo3E"
      }
    },
    {
      "cell_type": "markdown",
      "source": [
        "Selanjutnya saya ingin melihat berbagai jenis kolom-kolom yang ada pada dataframe"
      ],
      "metadata": {
        "id": "fTHKRpwr_tjF"
      }
    },
    {
      "cell_type": "code",
      "source": [
        "# Melihat informasi pada dataframe\n",
        "df.info()"
      ],
      "metadata": {
        "colab": {
          "base_uri": "https://localhost:8080/"
        },
        "id": "Mr_ISTWF0L8g",
        "outputId": "aa0efd02-8682-4d55-a196-c4f44e8dbe68"
      },
      "execution_count": 41,
      "outputs": [
        {
          "output_type": "stream",
          "name": "stdout",
          "text": [
            "<class 'pandas.core.frame.DataFrame'>\n",
            "RangeIndex: 801 entries, 0 to 800\n",
            "Data columns (total 19 columns):\n",
            " #   Column             Non-Null Count  Dtype  \n",
            "---  ------             --------------  -----  \n",
            " 0   name               801 non-null    object \n",
            " 1   abilities          801 non-null    object \n",
            " 2   classfication      801 non-null    object \n",
            " 3   type1              801 non-null    object \n",
            " 4   type2              417 non-null    object \n",
            " 5   attack             801 non-null    int64  \n",
            " 6   hp                 801 non-null    int64  \n",
            " 7   defense            801 non-null    int64  \n",
            " 8   speed              801 non-null    int64  \n",
            " 9   weight_kg          781 non-null    float64\n",
            " 10  height_m           781 non-null    float64\n",
            " 11  generation         801 non-null    int64  \n",
            " 12  base_happiness     801 non-null    int64  \n",
            " 13  capture_rate       801 non-null    object \n",
            " 14  experience_growth  801 non-null    int64  \n",
            " 15  pokedex_number     801 non-null    int64  \n",
            " 16  sp_attack          801 non-null    int64  \n",
            " 17  sp_defense         801 non-null    int64  \n",
            " 18  is_legendary       801 non-null    int64  \n",
            "dtypes: float64(2), int64(11), object(6)\n",
            "memory usage: 119.0+ KB\n"
          ]
        }
      ]
    },
    {
      "cell_type": "markdown",
      "source": [
        "whoa, Walaupun sudah saya filter menggunakan sql sebelumnya, kolomnya masih yang sangat banyak. Sebaiknya saya drop beberapa kolom lagi yaitu pokedex_number, weight_kg, height_m, dan experience_growth karena tidak berkaitan dengan problem statement saya."
      ],
      "metadata": {
        "id": "pzW5HpDc5CMt"
      }
    },
    {
      "cell_type": "code",
      "source": [
        "# Menghapus kolom pokedex_number\n",
        "df = df.drop(['pokedex_number','weight_kg','height_m','experience_growth'], axis = 1)"
      ],
      "metadata": {
        "id": "JokvPlnO-XGj"
      },
      "execution_count": 42,
      "outputs": []
    },
    {
      "cell_type": "markdown",
      "source": [
        "ada yang menganggu saya ketika melihat tipe data diatas. Pada kolom capture rate, tipe datanya adalah object.\n",
        "\n",
        "Capture rate menunjukkan tingkat kesulitan dalam menangkap pokemon. Semakin besar nilai capture rate maka akan semakin mudah untuk menangkap pokemon dan sebaliknya semakin kecil nilai capture rate maka akan semakin sulit untuk mendapatkannya. Jadi kolom tersebut seharusnya menggunakan tipe data numerik seperti integer atau float. Saya akan mengganti tipe datanya menjadi tipe data numerik, namun sebelum itu saya akan lihat terlebih dahulu unique values dari kolom tersebut"
      ],
      "metadata": {
        "id": "e2JRhdehxyiS"
      }
    },
    {
      "cell_type": "code",
      "source": [
        "# Melihat unique values dari kolom capture_rate\n",
        "df['capture_rate'].unique()"
      ],
      "metadata": {
        "colab": {
          "base_uri": "https://localhost:8080/"
        },
        "id": "mVg7d9jvyKhG",
        "outputId": "40e35d2b-b6c6-4e3f-cd2f-cbd6cc4001a8"
      },
      "execution_count": 43,
      "outputs": [
        {
          "output_type": "execute_result",
          "data": {
            "text/plain": [
              "array(['3', '255', '120', '45', '190', '150', '200', '75', '60', '25',\n",
              "       '55', '127', '30', '90', '65', '225', '140', '235', '130', '125',\n",
              "       '205', '35', '50', '160', '100', '180', '220', '155', '15', '170',\n",
              "       '145', '70', '30 (Meteorite)255 (Core)', '80'], dtype=object)"
            ]
          },
          "metadata": {},
          "execution_count": 43
        }
      ]
    },
    {
      "cell_type": "markdown",
      "source": [
        "Hmm terlihat pada list diatas, ada value berisi '30 (Meteorite)255 (Core)' yang jelas bukan nilai numerik, saya akan ubah saja value tersebut menjadi 30 dan setelah itu mengubah tipe data kolomnya menjadi integer. (Saya tidak mengubahnya menjadi float dikarenakan saya tidak melihat ada angka desimal di unique value diatas)"
      ],
      "metadata": {
        "id": "hJwuIut7yWap"
      }
    },
    {
      "cell_type": "code",
      "source": [
        "# Mengganti value '30 (Meteorite)255 (Core)' menjadi '30'\n",
        "df[\"capture_rate\"].replace({'30 (Meteorite)255 (Core)': '30'}, inplace=True)\n",
        "\n",
        "# Mengubah tipe data dari kolom capture_rate menjadi integer\n",
        "df['capture_rate'] = df['capture_rate'].astype('int')\n",
        "\n",
        "# Menampilkan tipe data dari kolom capture_rate\n",
        "df['capture_rate'].dtype"
      ],
      "metadata": {
        "colab": {
          "base_uri": "https://localhost:8080/"
        },
        "id": "XNVsE-uTyV9D",
        "outputId": "6380dd61-ebc3-4ecc-8b43-34f9c1171d11"
      },
      "execution_count": 44,
      "outputs": [
        {
          "output_type": "execute_result",
          "data": {
            "text/plain": [
              "dtype('int64')"
            ]
          },
          "metadata": {},
          "execution_count": 44
        }
      ]
    },
    {
      "cell_type": "markdown",
      "source": [
        "Sudah berhasil, untuk sekarang saya akan lihat apakah ada null values pada data"
      ],
      "metadata": {
        "id": "7Z-r0-qh-zkj"
      }
    },
    {
      "cell_type": "code",
      "source": [
        "# Melihat jumlah null values dari dataframe\n",
        "df.isnull().sum()"
      ],
      "metadata": {
        "colab": {
          "base_uri": "https://localhost:8080/"
        },
        "id": "vNxp7BzIABrB",
        "outputId": "d72e007f-cc9c-4b0c-801d-789194718721"
      },
      "execution_count": 45,
      "outputs": [
        {
          "output_type": "execute_result",
          "data": {
            "text/plain": [
              "name                0\n",
              "abilities           0\n",
              "classfication       0\n",
              "type1               0\n",
              "type2             384\n",
              "attack              0\n",
              "hp                  0\n",
              "defense             0\n",
              "speed               0\n",
              "generation          0\n",
              "base_happiness      0\n",
              "capture_rate        0\n",
              "sp_attack           0\n",
              "sp_defense          0\n",
              "is_legendary        0\n",
              "dtype: int64"
            ]
          },
          "metadata": {},
          "execution_count": 45
        }
      ]
    },
    {
      "cell_type": "markdown",
      "source": [
        "Untuk kolom type 2 terdapat null values dikarenakan memang tidak semua pokemon bersifat atau memiliki dua jenis (dual type) maka saya akan fill data yang null dengan 'none'."
      ],
      "metadata": {
        "id": "kQwkUtLs_le5"
      }
    },
    {
      "cell_type": "code",
      "source": [
        "# fill data yang null di kolom type2 dengan value 'none'\n",
        "df['type2'].fillna('none', inplace = True)"
      ],
      "metadata": {
        "id": "FfXh_XGkAE7q"
      },
      "execution_count": 46,
      "outputs": []
    },
    {
      "cell_type": "code",
      "source": [
        "# Melihat apakah masih ada null values pada dataframe\n",
        "df.isnull().values.any()"
      ],
      "metadata": {
        "colab": {
          "base_uri": "https://localhost:8080/"
        },
        "id": "kmX7jt41AQOx",
        "outputId": "030ce556-98a1-444b-a4a4-fe1852e755de"
      },
      "execution_count": 47,
      "outputs": [
        {
          "output_type": "execute_result",
          "data": {
            "text/plain": [
              "False"
            ]
          },
          "metadata": {},
          "execution_count": 47
        }
      ]
    },
    {
      "cell_type": "markdown",
      "source": [
        "Sudah tidak ada missing values."
      ],
      "metadata": {
        "id": "IKyxhijcE8BX"
      }
    },
    {
      "cell_type": "markdown",
      "source": [
        "## **Exploratory Data Analysis**"
      ],
      "metadata": {
        "id": "yUTfkeyljtuW"
      }
    },
    {
      "cell_type": "markdown",
      "source": [
        "Untuk yang pertama, saya ingin tau dulu ada berapa jumlah pokemon pada dataframe"
      ],
      "metadata": {
        "id": "eO2vW-LbRIE1"
      }
    },
    {
      "cell_type": "code",
      "source": [
        "# Melihat jumlah baris dan kolom\n",
        "df.shape"
      ],
      "metadata": {
        "colab": {
          "base_uri": "https://localhost:8080/"
        },
        "id": "15-1sTPAR1bB",
        "outputId": "f71ffc9b-c444-4b49-e28f-8c05d103d391"
      },
      "execution_count": 48,
      "outputs": [
        {
          "output_type": "execute_result",
          "data": {
            "text/plain": [
              "(801, 15)"
            ]
          },
          "metadata": {},
          "execution_count": 48
        }
      ]
    },
    {
      "cell_type": "markdown",
      "source": [
        "ada sebanyak 801 pokemon, itu adalah angka yang banyak, saya jadi penasaran pembagian dari **jumlah pokemonnnya di tiap generasi**"
      ],
      "metadata": {
        "id": "LsoLZoBeq-nG"
      }
    },
    {
      "cell_type": "code",
      "source": [
        "# Menggunakan countplot untuk melihat jumlah pokemon dari tiap generasi\n",
        "sns.countplot(x=df['generation']).set(xlabel='Generasi', ylabel='Jumlah Pokemon')"
      ],
      "metadata": {
        "colab": {
          "base_uri": "https://localhost:8080/",
          "height": 466
        },
        "id": "FazK6wvXRjfL",
        "outputId": "ca8d3a23-545f-48d0-b402-0100f465d404"
      },
      "execution_count": 49,
      "outputs": [
        {
          "output_type": "execute_result",
          "data": {
            "text/plain": [
              "[Text(0.5, 0, 'Generasi'), Text(0, 0.5, 'Jumlah Pokemon')]"
            ]
          },
          "metadata": {},
          "execution_count": 49
        },
        {
          "output_type": "display_data",
          "data": {
            "text/plain": [
              "<Figure size 640x480 with 1 Axes>"
            ],
            "image/png": "[encoded data removed]"
          },
          "metadata": {}
        }
      ]
    },
    {
      "cell_type": "markdown",
      "source": [
        "Ada pattern yang terlihat pada plot diatas, generasi dengan angka ganjil cenderung lebih tinggi dari generasi setelahnya(genap), pada generasi pertama jumlah pokemon lebih tinggi dari generasi ke2, generasi ke3 lebih tinggi dari ke4 dan seterusnya.\n",
        "* Generasi ke-5 memiliki jumlah pokemon terbanyak, sedangkan generasi ke-6 memiliki jumlah pokemon paling sedikit\n"
      ],
      "metadata": {
        "id": "yj_VNuwuW6TZ"
      }
    },
    {
      "cell_type": "markdown",
      "source": [
        "Setelah melihat pembagian pokemon berdasarkan generasi, sekarang saya akan melihat **Jumlah pokemon berdasarkan tipe utamanya.**\n",
        "\n",
        "Apa maksud dari tipe pokemon?\n",
        "\n",
        "Dalam dunia Pokemon, \"tipe\" mengacu pada klasifikasi elemen atau sifat yang dimiliki oleh setiap Pokemon. Setiap Pokemon memiliki satu (single-type) atau dua tipe (dual-type) yang mempengaruhi kekuatan, kelemahan, dan resistensi mereka terhadap serangan dan kondisi tertentu.\n"
      ],
      "metadata": {
        "id": "xdI6UO32YN1h"
      }
    },
    {
      "cell_type": "code",
      "source": [
        "# Menggunakan countplot untuk melihat jumlah dari tiap tipe utama\n",
        "sns.countplot(data=df, y=df['type1']).set(xlabel='Jumlah Pokemon', ylabel='Tipe Utama Pokemon')"
      ],
      "metadata": {
        "colab": {
          "base_uri": "https://localhost:8080/",
          "height": 466
        },
        "id": "ZaNxWIsCX9Tu",
        "outputId": "edbdc458-434e-4906-b838-20444b8c8dda"
      },
      "execution_count": 50,
      "outputs": [
        {
          "output_type": "execute_result",
          "data": {
            "text/plain": [
              "[Text(0.5, 0, 'Jumlah Pokemon'), Text(0, 0.5, 'Tipe Utama Pokemon')]"
            ]
          },
          "metadata": {},
          "execution_count": 50
        },
        {
          "output_type": "display_data",
          "data": {
            "text/plain": [
              "<Figure size 640x480 with 1 Axes>"
            ],
            "image/png": "[encoded data removed]"
          },
          "metadata": {}
        }
      ]
    },
    {
      "cell_type": "markdown",
      "source": [
        "Tipe pokemon _\"water\"_ menduduki peringkat teratas yang menunjukkan banyaknya tipe _\"water\"_ pokemon dan disusul oleh pokemon bertipe _\"normal\"_. Sedangkan yang paling rendah adalah pokemon bertipe _\"flying\"_.\n",
        "\n",
        "Bagaimana dengan tipe kedua dari pokemon?"
      ],
      "metadata": {
        "id": "3er2JqrjZC-Q"
      }
    },
    {
      "cell_type": "code",
      "source": [
        "# mengclone dataframe ke dataframe baru\n",
        "tipe2 = df.copy()\n",
        "\n",
        "# drop value none di tipe 2 pada dataframe yang sudah diclone agar tidak mempengaruhi dataframe aslinya\n",
        "tipe2.drop(tipe2.index[tipe2['type2'] == 'none'], inplace = True)\n",
        "\n",
        "# Melihat jumlah pokemon dengan secondary typenya\n",
        "sns.countplot(data=tipe2, y=tipe2['type2']).set(xlabel='Jumlah Pokemon', ylabel='Tipe Kedua Pokemon')"
      ],
      "metadata": {
        "colab": {
          "base_uri": "https://localhost:8080/",
          "height": 466
        },
        "id": "qhxAez7FZWgH",
        "outputId": "661a61dc-6a2e-4d9c-a79b-ace33406fc8a"
      },
      "execution_count": 51,
      "outputs": [
        {
          "output_type": "execute_result",
          "data": {
            "text/plain": [
              "[Text(0.5, 0, 'Jumlah Pokemon'), Text(0, 0.5, 'Tipe Kedua Pokemon')]"
            ]
          },
          "metadata": {},
          "execution_count": 51
        },
        {
          "output_type": "display_data",
          "data": {
            "text/plain": [
              "<Figure size 640x480 with 1 Axes>"
            ],
            "image/png": "[encoded data removed]"
          },
          "metadata": {}
        }
      ]
    },
    {
      "cell_type": "markdown",
      "source": [
        "Tadi di tipe utama, _\"flying\"_ merupakan tipe terendah, ternyata tipe ini lebih sering dijumpai di tipe kedua (dual-type pokemon)"
      ],
      "metadata": {
        "id": "-C8PRxhEfjpp"
      }
    },
    {
      "cell_type": "markdown",
      "source": [
        "masih di topik jumlah, sekarang saya ingin lihat **perbedaan jumlah single type dan dual type pokemon**"
      ],
      "metadata": {
        "id": "aj9yERS9fzdb"
      }
    },
    {
      "cell_type": "code",
      "source": [
        "# Menghitung jumlah single type dan dual type pokemon.\n",
        "single_type = df['type2'].value_counts()['none']\n",
        "dual_type = tipe2['type2'].count()\n",
        "\n",
        "# Konfigurasi chart\n",
        "keys = ['Single Type', 'Dual Type']\n",
        "data = [single_type,dual_type]\n",
        "\n",
        "# membuat pie chart\n",
        "plt.pie(data, labels=keys,autopct='%.0f%%')\n",
        "\n",
        "# menampilkan chart\n",
        "plt.show()"
      ],
      "metadata": {
        "colab": {
          "base_uri": "https://localhost:8080/",
          "height": 406
        },
        "id": "8V2vqC_lf0TJ",
        "outputId": "0a379a5c-ac2d-4c7a-b4eb-93acc9cf9df2"
      },
      "execution_count": 52,
      "outputs": [
        {
          "output_type": "display_data",
          "data": {
            "text/plain": [
              "<Figure size 640x480 with 1 Axes>"
            ],
            "image/png": "[encoded data removed]"
          },
          "metadata": {}
        }
      ]
    },
    {
      "cell_type": "markdown",
      "source": [
        "ternyata pembagian jumlah single type dan dual type pokemon hampir sama banyak."
      ],
      "metadata": {
        "id": "F9Tc5GFYscf3"
      }
    },
    {
      "cell_type": "markdown",
      "source": [
        "Bagaimana dengan **pokemon yang paling mudah dan sulit untuk ditangkap**"
      ],
      "metadata": {
        "id": "kiEZh5qkCa3v"
      }
    },
    {
      "cell_type": "code",
      "source": [
        "# Mengatur ukuran plotnya\n",
        "plt.figure(figsize=(17,8))\n",
        "\n",
        "# Membuat boxplot dengan sumbu x sebagai primary type dan y capture ratenya\n",
        "sns.boxplot(data=df, x=\"type1\", y=\"capture_rate\").set(xlabel='Tipe Pokemon', ylabel='Capture Rate')"
      ],
      "metadata": {
        "colab": {
          "base_uri": "https://localhost:8080/",
          "height": 713
        },
        "id": "88Z5xFBVCfNz",
        "outputId": "689b038b-2e06-4cbc-fa0a-de5670258954"
      },
      "execution_count": 53,
      "outputs": [
        {
          "output_type": "execute_result",
          "data": {
            "text/plain": [
              "[Text(0.5, 0, 'Tipe Pokemon'), Text(0, 0.5, 'Capture Rate')]"
            ]
          },
          "metadata": {},
          "execution_count": 53
        },
        {
          "output_type": "display_data",
          "data": {
            "text/plain": [
              "<Figure size 1700x800 with 1 Axes>"
            ],
            "image/png": "[encoded data removed]"
          },
          "metadata": {}
        }
      ]
    },
    {
      "cell_type": "markdown",
      "source": [
        "Seperti yang sudah saya jelaskan diawal, makin tinggi capture rate maka makin mudah pokemon didapatkan, sebaliknya  makin rendah capture rate maka akan semakin sulit pokemon untuk didapat.\n",
        "* Tipe _\"dragon\"_ adalah tipe pokemon yang paling sulit untuk ditangkap, disusul dengan tipe _\"steel\"_ dan _\"rock\"_\n",
        "* Tipe _\"fairy\"_ memiliki nilai median paling tinggi, menunjukkan bahwa pokemon bertipe _\"fairy\"_ relatif mudah untuk ditangkap\n"
      ],
      "metadata": {
        "id": "NgW3Eogot21r"
      }
    },
    {
      "cell_type": "markdown",
      "source": [
        "Bagaimana jika melihat dari individu pokemonnya?"
      ],
      "metadata": {
        "id": "2FkKqYsJdGYj"
      }
    },
    {
      "cell_type": "code",
      "source": [
        "# Mengambil baris yang memiliki nilai minimum dari kolom capture_rate\n",
        "min = df['capture_rate'].idxmin()\n",
        "rate_min = df.loc[min]\n",
        "\n",
        "# Mengambil baris yang memiliki nilai maksimum dari kolom capture_rate\n",
        "max = df['capture_rate'].idxmax()\n",
        "rate_max = df.loc[max]\n",
        "\n",
        "# Menampilkan hasil\n",
        "print(f'Pokemon yang paling mudah ditangkap adalah {rate_max[0]} bertipe {rate_max[3]} dengan capture rate sebesar {rate_max[11]}%')\n",
        "print(f'Pokemon yang paling sulit ditangkap adalah {rate_min[0]} bertipe {rate_min[3]} dengan capture rate hanya {rate_min[11]}%')"
      ],
      "metadata": {
        "colab": {
          "base_uri": "https://localhost:8080/"
        },
        "id": "VGgI0TLfuDHT",
        "outputId": "7acf358a-8312-4405-a847-bbebcaa23981"
      },
      "execution_count": 54,
      "outputs": [
        {
          "output_type": "stream",
          "name": "stdout",
          "text": [
            "Pokemon yang paling mudah ditangkap adalah Caterpie bertipe bug dengan capture rate sebesar 255%\n",
            "Pokemon yang paling sulit ditangkap adalah Tornadus bertipe flying dengan capture rate hanya 3%\n"
          ]
        }
      ]
    },
    {
      "cell_type": "markdown",
      "source": [
        "Jika tadi berdasarkan capture ratenya, sekarang saya ingin lihat **central tendency dari masing-masing tipe berdasarkan overall_statnya**,\n",
        "\n",
        "Overall stat adalah kolom baru yang akan saya buat untuk menampung gabungan beberapa base stat yang meliputi attack, hp, defense, speed, sp_attack, dan sp_defense. Tujuannya sebagai parameter penentu untuk membandingkan total stat dari pokemon.\n"
      ],
      "metadata": {
        "id": "dZzCZH7QpgJR"
      }
    },
    {
      "cell_type": "code",
      "source": [
        "# Membuat kolom baru yang merupakan gabungan dari seluruh base stat\n",
        "df['overall_stat'] = df['attack'] + df['defense'] + df['hp'] + df['speed'] + df['sp_attack'] + df['sp_defense']\n",
        "\n",
        "# Melihat mode, mean dan median dari overall_stat yang dikategorikan berdasarkan tipe pokemon\n",
        "tendency = df.groupby('type1')['overall_stat'].apply(lambda x: pd.Series([x.mode().iloc[0], x.mean().round(2), x.median()])).unstack()\n",
        "\n",
        "# Membuat nama kolom baru untuk nilai mode mean dan median\n",
        "tendency.columns = ['Mode', 'Mean', 'Median']\n",
        "tendency"
      ],
      "metadata": {
        "colab": {
          "base_uri": "https://localhost:8080/",
          "height": 645
        },
        "id": "_c17FHPypUWN",
        "outputId": "e67a52a6-df7f-4b20-8b1c-a3012271e3e7"
      },
      "execution_count": 55,
      "outputs": [
        {
          "output_type": "execute_result",
          "data": {
            "text/plain": [
              "           Mode    Mean  Median\n",
              "type1                          \n",
              "bug       205.0  380.43   392.5\n",
              "dark      510.0  449.76   480.0\n",
              "dragon    300.0  522.78   540.0\n",
              "electric  405.0  436.15   435.0\n",
              "fairy     341.0  427.17   456.0\n",
              "fighting  455.0  414.82   455.0\n",
              "fire      405.0  450.63   473.0\n",
              "flying    245.0  453.33   535.0\n",
              "ghost     295.0  434.70   474.0\n",
              "grass     405.0  412.58   409.0\n",
              "ground    500.0  426.09   427.5\n",
              "ice       305.0  433.61   455.0\n",
              "normal    490.0  401.30   415.0\n",
              "poison    320.0  399.56   406.5\n",
              "psychic   600.0  461.26   470.0\n",
              "rock      495.0  447.27   460.0\n",
              "steel     300.0  491.58   490.0\n",
              "water     330.0  426.79   440.0"
            ],
            "text/html": [
              "\n",
              "  <div id=\"df-4311d079-f336-4c43-8fd7-33c6d8b1e2c4\">\n",
              "    <div class=\"colab-df-container\">\n",
              "      <div>\n",
              "<style scoped>\n",
              "    .dataframe tbody tr th:only-of-type {\n",
              "        vertical-align: middle;\n",
              "    }\n",
              "\n",
              "    .dataframe tbody tr th {\n",
              "        vertical-align: top;\n",
              "    }\n",
              "\n",
              "    .dataframe thead th {\n",
              "        text-align: right;\n",
              "    }\n",
              "</style>\n",
              "<table border=\"1\" class=\"dataframe\">\n",
              "  <thead>\n",
              "    <tr style=\"text-align: right;\">\n",
              "      <th></th>\n",
              "      <th>Mode</th>\n",
              "      <th>Mean</th>\n",
              "      <th>Median</th>\n",
              "    </tr>\n",
              "    <tr>\n",
              "      <th>type1</th>\n",
              "      <th></th>\n",
              "      <th></th>\n",
              "      <th></th>\n",
              "    </tr>\n",
              "  </thead>\n",
              "  <tbody>\n",
              "    <tr>\n",
              "      <th>bug</th>\n",
              "      <td>205.0</td>\n",
              "      <td>380.43</td>\n",
              "      <td>392.5</td>\n",
              "    </tr>\n",
              "    <tr>\n",
              "      <th>dark</th>\n",
              "      <td>510.0</td>\n",
              "      <td>449.76</td>\n",
              "      <td>480.0</td>\n",
              "    </tr>\n",
              "    <tr>\n",
              "      <th>dragon</th>\n",
              "      <td>300.0</td>\n",
              "      <td>522.78</td>\n",
              "      <td>540.0</td>\n",
              "    </tr>\n",
              "    <tr>\n",
              "      <th>electric</th>\n",
              "      <td>405.0</td>\n",
              "      <td>436.15</td>\n",
              "      <td>435.0</td>\n",
              "    </tr>\n",
              "    <tr>\n",
              "      <th>fairy</th>\n",
              "      <td>341.0</td>\n",
              "      <td>427.17</td>\n",
              "      <td>456.0</td>\n",
              "    </tr>\n",
              "    <tr>\n",
              "      <th>fighting</th>\n",
              "      <td>455.0</td>\n",
              "      <td>414.82</td>\n",
              "      <td>455.0</td>\n",
              "    </tr>\n",
              "    <tr>\n",
              "      <th>fire</th>\n",
              "      <td>405.0</td>\n",
              "      <td>450.63</td>\n",
              "      <td>473.0</td>\n",
              "    </tr>\n",
              "    <tr>\n",
              "      <th>flying</th>\n",
              "      <td>245.0</td>\n",
              "      <td>453.33</td>\n",
              "      <td>535.0</td>\n",
              "    </tr>\n",
              "    <tr>\n",
              "      <th>ghost</th>\n",
              "      <td>295.0</td>\n",
              "      <td>434.70</td>\n",
              "      <td>474.0</td>\n",
              "    </tr>\n",
              "    <tr>\n",
              "      <th>grass</th>\n",
              "      <td>405.0</td>\n",
              "      <td>412.58</td>\n",
              "      <td>409.0</td>\n",
              "    </tr>\n",
              "    <tr>\n",
              "      <th>ground</th>\n",
              "      <td>500.0</td>\n",
              "      <td>426.09</td>\n",
              "      <td>427.5</td>\n",
              "    </tr>\n",
              "    <tr>\n",
              "      <th>ice</th>\n",
              "      <td>305.0</td>\n",
              "      <td>433.61</td>\n",
              "      <td>455.0</td>\n",
              "    </tr>\n",
              "    <tr>\n",
              "      <th>normal</th>\n",
              "      <td>490.0</td>\n",
              "      <td>401.30</td>\n",
              "      <td>415.0</td>\n",
              "    </tr>\n",
              "    <tr>\n",
              "      <th>poison</th>\n",
              "      <td>320.0</td>\n",
              "      <td>399.56</td>\n",
              "      <td>406.5</td>\n",
              "    </tr>\n",
              "    <tr>\n",
              "      <th>psychic</th>\n",
              "      <td>600.0</td>\n",
              "      <td>461.26</td>\n",
              "      <td>470.0</td>\n",
              "    </tr>\n",
              "    <tr>\n",
              "      <th>rock</th>\n",
              "      <td>495.0</td>\n",
              "      <td>447.27</td>\n",
              "      <td>460.0</td>\n",
              "    </tr>\n",
              "    <tr>\n",
              "      <th>steel</th>\n",
              "      <td>300.0</td>\n",
              "      <td>491.58</td>\n",
              "      <td>490.0</td>\n",
              "    </tr>\n",
              "    <tr>\n",
              "      <th>water</th>\n",
              "      <td>330.0</td>\n",
              "      <td>426.79</td>\n",
              "      <td>440.0</td>\n",
              "    </tr>\n",
              "  </tbody>\n",
              "</table>\n",
              "</div>\n",
              "      <button class=\"colab-df-convert\" onclick=\"convertToInteractive('df-4311d079-f336-4c43-8fd7-33c6d8b1e2c4')\"\n",
              "              title=\"Convert this dataframe to an interactive table.\"\n",
              "              style=\"display:none;\">\n",
              "        \n",
              "  <svg xmlns=\"http://www.w3.org/2000/svg\" height=\"24px\"viewBox=\"0 0 24 24\"\n",
              "       width=\"24px\">\n",
              "    <path d=\"M0 0h24v24H0V0z\" fill=\"none\"/>\n",
              "    <path d=\"M18.56 5.44l.94 2.06.94-2.06 2.06-.94-2.06-.94-.94-2.06-.94 2.06-2.06.94zm-11 1L8.5 8.5l.94-2.06 2.06-.94-2.06-.94L8.5 2.5l-.94 2.06-2.06.94zm10 10l.94 2.06.94-2.06 2.06-.94-2.06-.94-.94-2.06-.94 2.06-2.06.94z\"/><path d=\"M17.41 7.96l-1.37-1.37c-.4-.4-.92-.59-1.43-.59-.52 0-1.04.2-1.43.59L10.3 9.45l-7.72 7.72c-.78.78-.78 2.05 0 2.83L4 21.41c.39.39.9.59 1.41.59.51 0 1.02-.2 1.41-.59l7.78-7.78 2.81-2.81c.8-.78.8-2.07 0-2.86zM5.41 20L4 18.59l7.72-7.72 1.47 1.35L5.41 20z\"/>\n",
              "  </svg>\n",
              "      </button>\n",
              "      \n",
              "  <style>\n",
              "    .colab-df-container {\n",
              "      display:flex;\n",
              "      flex-wrap:wrap;\n",
              "      gap: 12px;\n",
              "    }\n",
              "\n",
              "    .colab-df-convert {\n",
              "      background-color: #E8F0FE;\n",
              "      border: none;\n",
              "      border-radius: 50%;\n",
              "      cursor: pointer;\n",
              "      display: none;\n",
              "      fill: #1967D2;\n",
              "      height: 32px;\n",
              "      padding: 0 0 0 0;\n",
              "      width: 32px;\n",
              "    }\n",
              "\n",
              "    .colab-df-convert:hover {\n",
              "      background-color: #E2EBFA;\n",
              "      box-shadow: 0px 1px 2px rgba(60, 64, 67, 0.3), 0px 1px 3px 1px rgba(60, 64, 67, 0.15);\n",
              "      fill: #174EA6;\n",
              "    }\n",
              "\n",
              "    [theme=dark] .colab-df-convert {\n",
              "      background-color: #3B4455;\n",
              "      fill: #D2E3FC;\n",
              "    }\n",
              "\n",
              "    [theme=dark] .colab-df-convert:hover {\n",
              "      background-color: #434B5C;\n",
              "      box-shadow: 0px 1px 3px 1px rgba(0, 0, 0, 0.15);\n",
              "      filter: drop-shadow(0px 1px 2px rgba(0, 0, 0, 0.3));\n",
              "      fill: #FFFFFF;\n",
              "    }\n",
              "  </style>\n",
              "\n",
              "      <script>\n",
              "        const buttonEl =\n",
              "          document.querySelector('#df-4311d079-f336-4c43-8fd7-33c6d8b1e2c4 button.colab-df-convert');\n",
              "        buttonEl.style.display =\n",
              "          google.colab.kernel.accessAllowed ? 'block' : 'none';\n",
              "\n",
              "        async function convertToInteractive(key) {\n",
              "          const element = document.querySelector('#df-4311d079-f336-4c43-8fd7-33c6d8b1e2c4');\n",
              "          const dataTable =\n",
              "            await google.colab.kernel.invokeFunction('convertToInteractive',\n",
              "                                                     [key], {});\n",
              "          if (!dataTable) return;\n",
              "\n",
              "          const docLinkHtml = 'Like what you see? Visit the ' +\n",
              "            '<a target=\"_blank\" href=https://colab.research.google.com/notebooks/data_table.ipynb>data table notebook</a>'\n",
              "            + ' to learn more about interactive tables.';\n",
              "          element.innerHTML = '';\n",
              "          dataTable['output_type'] = 'display_data';\n",
              "          await google.colab.output.renderOutput(dataTable, element);\n",
              "          const docLink = document.createElement('div');\n",
              "          docLink.innerHTML = docLinkHtml;\n",
              "          element.appendChild(docLink);\n",
              "        }\n",
              "      </script>\n",
              "    </div>\n",
              "  </div>\n",
              "  "
            ]
          },
          "metadata": {},
          "execution_count": 55
        }
      ]
    },
    {
      "cell_type": "markdown",
      "source": [
        "* Tipe _\"bug\"_ memiliki nilai mode, mean, median terendah menunjukkan kebanyakan pokemon tipe bug memiliki overall stat yang relatif kecil\n",
        "* Tipe _\"dragon\"_ memiliki nilai mean dan nilai median tertinggi, menunjukkan rata-rata pokemon tersebut memiliki overall_stat yang relatif tinggi\n"
      ],
      "metadata": {
        "id": "Lv7Cb6TBp7pL"
      }
    },
    {
      "cell_type": "markdown",
      "source": [
        "Sekarang saya akan lihat **perbandingan dari jumlah pokemon legendary dan pokemon biasa**"
      ],
      "metadata": {
        "id": "9VLpiKANl_FD"
      }
    },
    {
      "cell_type": "code",
      "source": [
        "# Memfilter data untuk mengambil baris yang merupakan pokemon legendary dan yang bukan\n",
        "legend = df['is_legendary'].value_counts()[1]\n",
        "non_legend = df['is_legendary'].value_counts()[0]\n",
        "\n",
        "# Konfigurasi untuk pie chart\n",
        "explode = [0.1, 0]\n",
        "keys = ['Legendary', 'Non-Legendary']\n",
        "data = [legend,non_legend]\n",
        "\n",
        "# membuat pie chart\n",
        "plt.pie(data, labels=keys, explode=explode, autopct='%.0f%%')\n",
        "\n",
        "# menampilkan chart\n",
        "plt.show()"
      ],
      "metadata": {
        "colab": {
          "base_uri": "https://localhost:8080/",
          "height": 406
        },
        "id": "CRtAKDObl_m5",
        "outputId": "1ed59363-778f-4103-8803-b1ca56015f2a"
      },
      "execution_count": 56,
      "outputs": [
        {
          "output_type": "display_data",
          "data": {
            "text/plain": [
              "<Figure size 640x480 with 1 Axes>"
            ],
            "image/png": "[encoded data removed]"
          },
          "metadata": {}
        }
      ]
    },
    {
      "cell_type": "markdown",
      "source": [
        "Ternyata hanya sebagian kecil dari pokemon yang termasuk pokemon legendary, setelah melihat sedikitnya jumlah pokemon legendary, muncul pertanyaan-pertanyaan seperti, kenapa hanya sedikit jumlah pokemon legendary? apakah pokemon legendary merupakan golongan pokemon yang terkuat? atau apakah ada pokemon non-legendary yang lebih kuat dari pokemon legendary?\n",
        "\n",
        "Hold your horses, untuk menjawab pertanyaan-pertanyaan itu sebaiknya saya melihat dulu pokemon-pokemon yang memiliki overall stat tertinggi setelah itu baru saya liat apakah pokemon tertinggi itu termasuk legendary atau tidak\n",
        "\n"
      ],
      "metadata": {
        "id": "LA_Q5D9o3AVK"
      }
    },
    {
      "cell_type": "code",
      "source": [
        "# Mengambil 5 pokemon dengan overall stat tertinggi\n",
        "top5_pokemon = df.nlargest(5, 'overall_stat')\n",
        "\n",
        "# Membuat barplot\n",
        "ax = sns.barplot(x='overall_stat', y='name', data=top5_pokemon)\n",
        "\n",
        "# Memberikan label untuk menunjukkan overall_statnya\n",
        "ax.bar_label(ax.containers[0])\n",
        "\n",
        "# Menampilkan plot\n",
        "plt.show()"
      ],
      "metadata": {
        "colab": {
          "base_uri": "https://localhost:8080/",
          "height": 450
        },
        "id": "0Bj1BZ-KR2Hj",
        "outputId": "d68c73ec-133c-4f0f-f8cd-ba5cf587d0e7"
      },
      "execution_count": 57,
      "outputs": [
        {
          "output_type": "display_data",
          "data": {
            "text/plain": [
              "<Figure size 640x480 with 1 Axes>"
            ],
            "image/png": "[encoded data removed]"
          },
          "metadata": {}
        }
      ]
    },
    {
      "cell_type": "markdown",
      "source": [
        "5 pokemon diatas adalah pokemon yang memiliki overall stat tertinggi, Mewtwo dan Rayquaza memiliki overall stats yang sama yaitu 780, disusul oleh Kyogre dan Groudon sebanyak 770 dan terakhir Arceus sebesar 720.\n",
        "\n",
        "Saya akan membuat visualisasi untuk membandingkan masing-masing base stat pada 5 pokemon tersebut"
      ],
      "metadata": {
        "id": "HKDvODuxGU6Y"
      }
    },
    {
      "cell_type": "code",
      "source": [
        "# Membuat fungsi baru untuk menyimpan keenam base stat kedalam list sesuai dengan index yang diinginkan\n",
        "def overall(index):\n",
        "  attack = top5_pokemon.attack.iloc[index]\n",
        "  defense = top5_pokemon.defense.iloc[index]\n",
        "  hp = top5_pokemon.hp.iloc[index]\n",
        "  speed = top5_pokemon.speed.iloc[index]\n",
        "  sp_attack = top5_pokemon.sp_attack.iloc[index]\n",
        "  sp_defense = top5_pokemon.sp_defense.iloc[index]\n",
        "  r = [attack,defense,hp,speed,sp_attack,sp_defense,attack]\n",
        "  return r\n",
        "\n",
        "# Membuat fungsi baru untuk menyimpan nama dari pokemon sesuai indexnya\n",
        "def nama(index):\n",
        "  nama = top5_pokemon.name.iloc[index]\n",
        "  return nama\n",
        "\n",
        "# Label untuk di chartnya\n",
        "stat = ['Attack','Defense','HP','Speed','Special Attack','Special Defense','Attack']\n",
        "\n",
        "# Membuat radar chart menggunakan plotly dengan mengisi argumen sesuai dengan fungsi yang sudah dibuat sebelumnya\n",
        "fig = go.Figure(\n",
        "    data=[\n",
        "        go.Scatterpolar(r=overall(0), theta=stat, fill='toself', name=nama(0)),\n",
        "        go.Scatterpolar(r=overall(1), theta=stat, fill='toself', name=nama(1)),\n",
        "        go.Scatterpolar(r=overall(2), theta=stat, fill='toself', name=nama(2)),\n",
        "        go.Scatterpolar(r=overall(3), theta=stat, fill='toself', name=nama(3)),\n",
        "        go.Scatterpolar(r=overall(4), theta=stat, fill='toself', name=nama(4))\n",
        "    ],  layout=go.Layout(\n",
        "        title=go.layout.Title(text='Perbandingan 5 Pokemon dengan Overall Stat Tertinggi'),\n",
        "        polar={'radialaxis': {'visible': True}},\n",
        "        showlegend=True\n",
        "    ))\n",
        "\n",
        "# Mengubah ukuran font\n",
        "fig.update_layout(font=dict(size= 15))\n",
        "\n",
        "# Menampilkan chart\n",
        "fig.show()"
      ],
      "metadata": {
        "colab": {
          "base_uri": "https://localhost:8080/",
          "height": 542
        },
        "id": "YRZ2QqSFnYaI",
        "outputId": "9dd907f8-7fc7-459c-8fef-0c1a3b3127fb"
      },
      "execution_count": 58,
      "outputs": [
        {
          "output_type": "display_data",
          "data": {
            "text/html": [
              "<html>\n",
              "<head><meta charset=\"utf-8\" /></head>\n",
              "<body>\n",
              "    <div>            <script src=\"https://cdnjs.cloudflare.com/ajax/libs/mathjax/2.7.5/MathJax.js?config=TeX-AMS-MML_SVG\"></script><script type=\"text/javascript\">if (window.MathJax && window.MathJax.Hub && window.MathJax.Hub.Config) {window.MathJax.Hub.Config({SVG: {font: \"STIX-Web\"}});}</script>                <script type=\"text/javascript\">window.PlotlyConfig = {MathJaxConfig: 'local'};</script>\n",
              "        <script src=\"https://cdn.plot.ly/plotly-2.18.2.min.js\"></script>                <div id=\"f6d41646-3cc7-48bc-89ea-386136e1258b\" class=\"plotly-graph-div\" style=\"height:525px; width:100%;\"></div>            <script type=\"text/javascript\">                                    window.PLOTLYENV=window.PLOTLYENV || {};                                    if (document.getElementById(\"f6d41646-3cc7-48bc-89ea-386136e1258b\")) {                    Plotly.newPlot(                        \"f6d41646-3cc7-48bc-89ea-386136e1258b\",                        [{\"fill\":\"toself\",\"name\":\"Mewtwo\",\"r\":[150,70,106,140,194,120,150],\"theta\":[\"Attack\",\"Defense\",\"HP\",\"Speed\",\"Special Attack\",\"Special Defense\",\"Attack\"],\"type\":\"scatterpolar\"},{\"fill\":\"toself\",\"name\":\"Rayquaza\",\"r\":[180,100,105,115,180,100,180],\"theta\":[\"Attack\",\"Defense\",\"HP\",\"Speed\",\"Special Attack\",\"Special Defense\",\"Attack\"],\"type\":\"scatterpolar\"},{\"fill\":\"toself\",\"name\":\"Kyogre\",\"r\":[150,90,100,90,180,160,150],\"theta\":[\"Attack\",\"Defense\",\"HP\",\"Speed\",\"Special Attack\",\"Special Defense\",\"Attack\"],\"type\":\"scatterpolar\"},{\"fill\":\"toself\",\"name\":\"Groudon\",\"r\":[180,160,100,90,150,90,180],\"theta\":[\"Attack\",\"Defense\",\"HP\",\"Speed\",\"Special Attack\",\"Special Defense\",\"Attack\"],\"type\":\"scatterpolar\"},{\"fill\":\"toself\",\"name\":\"Arceus\",\"r\":[120,120,120,120,120,120,120],\"theta\":[\"Attack\",\"Defense\",\"HP\",\"Speed\",\"Special Attack\",\"Special Defense\",\"Attack\"],\"type\":\"scatterpolar\"}],                        {\"polar\":{\"radialaxis\":{\"visible\":true}},\"showlegend\":true,\"title\":{\"text\":\"Perbandingan 5 Pokemon dengan Overall Stat Tertinggi\"},\"template\":{\"data\":{\"histogram2dcontour\":[{\"type\":\"histogram2dcontour\",\"colorbar\":{\"outlinewidth\":0,\"ticks\":\"\"},\"colorscale\":[[0.0,\"#0d0887\"],[0.1111111111111111,\"#46039f\"],[0.2222222222222222,\"#7201a8\"],[0.3333333333333333,\"#9c179e\"],[0.4444444444444444,\"#bd3786\"],[0.5555555555555556,\"#d8576b\"],[0.6666666666666666,\"#ed7953\"],[0.7777777777777778,\"#fb9f3a\"],[0.8888888888888888,\"#fdca26\"],[1.0,\"#f0f921\"]]}],\"choropleth\":[{\"type\":\"choropleth\",\"colorbar\":{\"outlinewidth\":0,\"ticks\":\"\"}}],\"histogram2d\":[{\"type\":\"histogram2d\",\"colorbar\":{\"outlinewidth\":0,\"ticks\":\"\"},\"colorscale\":[[0.0,\"#0d0887\"],[0.1111111111111111,\"#46039f\"],[0.2222222222222222,\"#7201a8\"],[0.3333333333333333,\"#9c179e\"],[0.4444444444444444,\"#bd3786\"],[0.5555555555555556,\"#d8576b\"],[0.6666666666666666,\"#ed7953\"],[0.7777777777777778,\"#fb9f3a\"],[0.8888888888888888,\"#fdca26\"],[1.0,\"#f0f921\"]]}],\"heatmap\":[{\"type\":\"heatmap\",\"colorbar\":{\"outlinewidth\":0,\"ticks\":\"\"},\"colorscale\":[[0.0,\"#0d0887\"],[0.1111111111111111,\"#46039f\"],[0.2222222222222222,\"#7201a8\"],[0.3333333333333333,\"#9c179e\"],[0.4444444444444444,\"#bd3786\"],[0.5555555555555556,\"#d8576b\"],[0.6666666666666666,\"#ed7953\"],[0.7777777777777778,\"#fb9f3a\"],[0.8888888888888888,\"#fdca26\"],[1.0,\"#f0f921\"]]}],\"heatmapgl\":[{\"type\":\"heatmapgl\",\"colorbar\":{\"outlinewidth\":0,\"ticks\":\"\"},\"colorscale\":[[0.0,\"#0d0887\"],[0.1111111111111111,\"#46039f\"],[0.2222222222222222,\"#7201a8\"],[0.3333333333333333,\"#9c179e\"],[0.4444444444444444,\"#bd3786\"],[0.5555555555555556,\"#d8576b\"],[0.6666666666666666,\"#ed7953\"],[0.7777777777777778,\"#fb9f3a\"],[0.8888888888888888,\"#fdca26\"],[1.0,\"#f0f921\"]]}],\"contourcarpet\":[{\"type\":\"contourcarpet\",\"colorbar\":{\"outlinewidth\":0,\"ticks\":\"\"}}],\"contour\":[{\"type\":\"contour\",\"colorbar\":{\"outlinewidth\":0,\"ticks\":\"\"},\"colorscale\":[[0.0,\"#0d0887\"],[0.1111111111111111,\"#46039f\"],[0.2222222222222222,\"#7201a8\"],[0.3333333333333333,\"#9c179e\"],[0.4444444444444444,\"#bd3786\"],[0.5555555555555556,\"#d8576b\"],[0.6666666666666666,\"#ed7953\"],[0.7777777777777778,\"#fb9f3a\"],[0.8888888888888888,\"#fdca26\"],[1.0,\"#f0f921\"]]}],\"surface\":[{\"type\":\"surface\",\"colorbar\":{\"outlinewidth\":0,\"ticks\":\"\"},\"colorscale\":[[0.0,\"#0d0887\"],[0.1111111111111111,\"#46039f\"],[0.2222222222222222,\"#7201a8\"],[0.3333333333333333,\"#9c179e\"],[0.4444444444444444,\"#bd3786\"],[0.5555555555555556,\"#d8576b\"],[0.6666666666666666,\"#ed7953\"],[0.7777777777777778,\"#fb9f3a\"],[0.8888888888888888,\"#fdca26\"],[1.0,\"#f0f921\"]]}],\"mesh3d\":[{\"type\":\"mesh3d\",\"colorbar\":{\"outlinewidth\":0,\"ticks\":\"\"}}],\"scatter\":[{\"fillpattern\":{\"fillmode\":\"overlay\",\"size\":10,\"solidity\":0.2},\"type\":\"scatter\"}],\"parcoords\":[{\"type\":\"parcoords\",\"line\":{\"colorbar\":{\"outlinewidth\":0,\"ticks\":\"\"}}}],\"scatterpolargl\":[{\"type\":\"scatterpolargl\",\"marker\":{\"colorbar\":{\"outlinewidth\":0,\"ticks\":\"\"}}}],\"bar\":[{\"error_x\":{\"color\":\"#2a3f5f\"},\"error_y\":{\"color\":\"#2a3f5f\"},\"marker\":{\"line\":{\"color\":\"#E5ECF6\",\"width\":0.5},\"pattern\":{\"fillmode\":\"overlay\",\"size\":10,\"solidity\":0.2}},\"type\":\"bar\"}],\"scattergeo\":[{\"type\":\"scattergeo\",\"marker\":{\"colorbar\":{\"outlinewidth\":0,\"ticks\":\"\"}}}],\"scatterpolar\":[{\"type\":\"scatterpolar\",\"marker\":{\"colorbar\":{\"outlinewidth\":0,\"ticks\":\"\"}}}],\"histogram\":[{\"marker\":{\"pattern\":{\"fillmode\":\"overlay\",\"size\":10,\"solidity\":0.2}},\"type\":\"histogram\"}],\"scattergl\":[{\"type\":\"scattergl\",\"marker\":{\"colorbar\":{\"outlinewidth\":0,\"ticks\":\"\"}}}],\"scatter3d\":[{\"type\":\"scatter3d\",\"line\":{\"colorbar\":{\"outlinewidth\":0,\"ticks\":\"\"}},\"marker\":{\"colorbar\":{\"outlinewidth\":0,\"ticks\":\"\"}}}],\"scattermapbox\":[{\"type\":\"scattermapbox\",\"marker\":{\"colorbar\":{\"outlinewidth\":0,\"ticks\":\"\"}}}],\"scatterternary\":[{\"type\":\"scatterternary\",\"marker\":{\"colorbar\":{\"outlinewidth\":0,\"ticks\":\"\"}}}],\"scattercarpet\":[{\"type\":\"scattercarpet\",\"marker\":{\"colorbar\":{\"outlinewidth\":0,\"ticks\":\"\"}}}],\"carpet\":[{\"aaxis\":{\"endlinecolor\":\"#2a3f5f\",\"gridcolor\":\"white\",\"linecolor\":\"white\",\"minorgridcolor\":\"white\",\"startlinecolor\":\"#2a3f5f\"},\"baxis\":{\"endlinecolor\":\"#2a3f5f\",\"gridcolor\":\"white\",\"linecolor\":\"white\",\"minorgridcolor\":\"white\",\"startlinecolor\":\"#2a3f5f\"},\"type\":\"carpet\"}],\"table\":[{\"cells\":{\"fill\":{\"color\":\"#EBF0F8\"},\"line\":{\"color\":\"white\"}},\"header\":{\"fill\":{\"color\":\"#C8D4E3\"},\"line\":{\"color\":\"white\"}},\"type\":\"table\"}],\"barpolar\":[{\"marker\":{\"line\":{\"color\":\"#E5ECF6\",\"width\":0.5},\"pattern\":{\"fillmode\":\"overlay\",\"size\":10,\"solidity\":0.2}},\"type\":\"barpolar\"}],\"pie\":[{\"automargin\":true,\"type\":\"pie\"}]},\"layout\":{\"autotypenumbers\":\"strict\",\"colorway\":[\"#636efa\",\"#EF553B\",\"#00cc96\",\"#ab63fa\",\"#FFA15A\",\"#19d3f3\",\"#FF6692\",\"#B6E880\",\"#FF97FF\",\"#FECB52\"],\"font\":{\"color\":\"#2a3f5f\"},\"hovermode\":\"closest\",\"hoverlabel\":{\"align\":\"left\"},\"paper_bgcolor\":\"white\",\"plot_bgcolor\":\"#E5ECF6\",\"polar\":{\"bgcolor\":\"#E5ECF6\",\"angularaxis\":{\"gridcolor\":\"white\",\"linecolor\":\"white\",\"ticks\":\"\"},\"radialaxis\":{\"gridcolor\":\"white\",\"linecolor\":\"white\",\"ticks\":\"\"}},\"ternary\":{\"bgcolor\":\"#E5ECF6\",\"aaxis\":{\"gridcolor\":\"white\",\"linecolor\":\"white\",\"ticks\":\"\"},\"baxis\":{\"gridcolor\":\"white\",\"linecolor\":\"white\",\"ticks\":\"\"},\"caxis\":{\"gridcolor\":\"white\",\"linecolor\":\"white\",\"ticks\":\"\"}},\"coloraxis\":{\"colorbar\":{\"outlinewidth\":0,\"ticks\":\"\"}},\"colorscale\":{\"sequential\":[[0.0,\"#0d0887\"],[0.1111111111111111,\"#46039f\"],[0.2222222222222222,\"#7201a8\"],[0.3333333333333333,\"#9c179e\"],[0.4444444444444444,\"#bd3786\"],[0.5555555555555556,\"#d8576b\"],[0.6666666666666666,\"#ed7953\"],[0.7777777777777778,\"#fb9f3a\"],[0.8888888888888888,\"#fdca26\"],[1.0,\"#f0f921\"]],\"sequentialminus\":[[0.0,\"#0d0887\"],[0.1111111111111111,\"#46039f\"],[0.2222222222222222,\"#7201a8\"],[0.3333333333333333,\"#9c179e\"],[0.4444444444444444,\"#bd3786\"],[0.5555555555555556,\"#d8576b\"],[0.6666666666666666,\"#ed7953\"],[0.7777777777777778,\"#fb9f3a\"],[0.8888888888888888,\"#fdca26\"],[1.0,\"#f0f921\"]],\"diverging\":[[0,\"#8e0152\"],[0.1,\"#c51b7d\"],[0.2,\"#de77ae\"],[0.3,\"#f1b6da\"],[0.4,\"#fde0ef\"],[0.5,\"#f7f7f7\"],[0.6,\"#e6f5d0\"],[0.7,\"#b8e186\"],[0.8,\"#7fbc41\"],[0.9,\"#4d9221\"],[1,\"#276419\"]]},\"xaxis\":{\"gridcolor\":\"white\",\"linecolor\":\"white\",\"ticks\":\"\",\"title\":{\"standoff\":15},\"zerolinecolor\":\"white\",\"automargin\":true,\"zerolinewidth\":2},\"yaxis\":{\"gridcolor\":\"white\",\"linecolor\":\"white\",\"ticks\":\"\",\"title\":{\"standoff\":15},\"zerolinecolor\":\"white\",\"automargin\":true,\"zerolinewidth\":2},\"scene\":{\"xaxis\":{\"backgroundcolor\":\"#E5ECF6\",\"gridcolor\":\"white\",\"linecolor\":\"white\",\"showbackground\":true,\"ticks\":\"\",\"zerolinecolor\":\"white\",\"gridwidth\":2},\"yaxis\":{\"backgroundcolor\":\"#E5ECF6\",\"gridcolor\":\"white\",\"linecolor\":\"white\",\"showbackground\":true,\"ticks\":\"\",\"zerolinecolor\":\"white\",\"gridwidth\":2},\"zaxis\":{\"backgroundcolor\":\"#E5ECF6\",\"gridcolor\":\"white\",\"linecolor\":\"white\",\"showbackground\":true,\"ticks\":\"\",\"zerolinecolor\":\"white\",\"gridwidth\":2}},\"shapedefaults\":{\"line\":{\"color\":\"#2a3f5f\"}},\"annotationdefaults\":{\"arrowcolor\":\"#2a3f5f\",\"arrowhead\":0,\"arrowwidth\":1},\"geo\":{\"bgcolor\":\"white\",\"landcolor\":\"#E5ECF6\",\"subunitcolor\":\"white\",\"showland\":true,\"showlakes\":true,\"lakecolor\":\"white\"},\"title\":{\"x\":0.05},\"mapbox\":{\"style\":\"light\"}}},\"font\":{\"size\":15}},                        {\"responsive\": true}                    ).then(function(){\n",
              "                            \n",
              "var gd = document.getElementById('f6d41646-3cc7-48bc-89ea-386136e1258b');\n",
              "var x = new MutationObserver(function (mutations, observer) {{\n",
              "        var display = window.getComputedStyle(gd).display;\n",
              "        if (!display || display === 'none') {{\n",
              "            console.log([gd, 'removed!']);\n",
              "            Plotly.purge(gd);\n",
              "            observer.disconnect();\n",
              "        }}\n",
              "}});\n",
              "\n",
              "// Listen for the removal of the full notebook cells\n",
              "var notebookContainer = gd.closest('#notebook-container');\n",
              "if (notebookContainer) {{\n",
              "    x.observe(notebookContainer, {childList: true});\n",
              "}}\n",
              "\n",
              "// Listen for the clearing of the current output cell\n",
              "var outputEl = gd.closest('.output');\n",
              "if (outputEl) {{\n",
              "    x.observe(outputEl, {childList: true});\n",
              "}}\n",
              "\n",
              "                        })                };                            </script>        </div>\n",
              "</body>\n",
              "</html>"
            ]
          },
          "metadata": {}
        }
      ]
    },
    {
      "cell_type": "markdown",
      "source": [
        "* Mewtwo memiliki special attack dan speed tertinggi dari 5 pokemon tersebut\n",
        "* Rayquaza memiliki attack dan special attack yang tinggi\n",
        "* Kyogre lebih dominan pada special defense\n",
        "* Groudon lebih dominan pada defense\n",
        "* Arceus mempunyai stat yang seimbang pada segala aspek"
      ],
      "metadata": {
        "id": "SgvsOYL2HF-s"
      }
    },
    {
      "cell_type": "markdown",
      "source": [
        "Kembali ke topik awal, saya ingin lihat apakah 5 pokemon diatas termasuk legendary atau bukan"
      ],
      "metadata": {
        "id": "ZP91xzRvJkSk"
      }
    },
    {
      "cell_type": "code",
      "source": [
        "top5_pokemon.is_legendary"
      ],
      "metadata": {
        "colab": {
          "base_uri": "https://localhost:8080/"
        },
        "id": "UFsE22FPJqwW",
        "outputId": "32e8b8e6-94ff-4fdb-db83-360b996ce41d"
      },
      "execution_count": 59,
      "outputs": [
        {
          "output_type": "execute_result",
          "data": {
            "text/plain": [
              "306    1\n",
              "623    1\n",
              "179    1\n",
              "221    1\n",
              "271    1\n",
              "Name: is_legendary, dtype: int64"
            ]
          },
          "metadata": {},
          "execution_count": 59
        }
      ]
    },
    {
      "cell_type": "markdown",
      "source": [
        "Angka 1 mengindikasikan bahwa semua pokemon tersebut termasuk pokemon legendary.\n",
        "\n",
        "Saya jadi penasaran, apakah ada pokemon non-legendary dengan overall stat yang lebih tinggi dari pokemon legendary"
      ],
      "metadata": {
        "id": "dwqikdaiKg60"
      }
    },
    {
      "cell_type": "code",
      "source": [
        "# Memfilter dataframe untuk hanya menyimpan pokemon non legendary\n",
        "a = df.query('is_legendary == 0')\n",
        "\n",
        "# Mengambil overall stat tertinggi dari dataframe yang sudah difilter\n",
        "strongest_non_legend = a.nlargest(1,'overall_stat')\n",
        "\n",
        "# Menampilkan nama, tipe, overall stat, dan status legendary\n",
        "strongest_non_legend[['name']+['type1']+['overall_stat']+['is_legendary']]"
      ],
      "metadata": {
        "colab": {
          "base_uri": "https://localhost:8080/",
          "height": 81
        },
        "id": "11gYkXSqKqFh",
        "outputId": "c2e90b78-111e-4663-95f1-5d59c0a990ff"
      },
      "execution_count": 60,
      "outputs": [
        {
          "output_type": "execute_result",
          "data": {
            "text/plain": [
              "          name type1  overall_stat  is_legendary\n",
              "405  Tyranitar  rock           700             0"
            ],
            "text/html": [
              "\n",
              "  <div id=\"df-4061f71c-2e86-45b7-adb8-506d8d75c2f4\">\n",
              "    <div class=\"colab-df-container\">\n",
              "      <div>\n",
              "<style scoped>\n",
              "    .dataframe tbody tr th:only-of-type {\n",
              "        vertical-align: middle;\n",
              "    }\n",
              "\n",
              "    .dataframe tbody tr th {\n",
              "        vertical-align: top;\n",
              "    }\n",
              "\n",
              "    .dataframe thead th {\n",
              "        text-align: right;\n",
              "    }\n",
              "</style>\n",
              "<table border=\"1\" class=\"dataframe\">\n",
              "  <thead>\n",
              "    <tr style=\"text-align: right;\">\n",
              "      <th></th>\n",
              "      <th>name</th>\n",
              "      <th>type1</th>\n",
              "      <th>overall_stat</th>\n",
              "      <th>is_legendary</th>\n",
              "    </tr>\n",
              "  </thead>\n",
              "  <tbody>\n",
              "    <tr>\n",
              "      <th>405</th>\n",
              "      <td>Tyranitar</td>\n",
              "      <td>rock</td>\n",
              "      <td>700</td>\n",
              "      <td>0</td>\n",
              "    </tr>\n",
              "  </tbody>\n",
              "</table>\n",
              "</div>\n",
              "      <button class=\"colab-df-convert\" onclick=\"convertToInteractive('df-4061f71c-2e86-45b7-adb8-506d8d75c2f4')\"\n",
              "              title=\"Convert this dataframe to an interactive table.\"\n",
              "              style=\"display:none;\">\n",
              "        \n",
              "  <svg xmlns=\"http://www.w3.org/2000/svg\" height=\"24px\"viewBox=\"0 0 24 24\"\n",
              "       width=\"24px\">\n",
              "    <path d=\"M0 0h24v24H0V0z\" fill=\"none\"/>\n",
              "    <path d=\"M18.56 5.44l.94 2.06.94-2.06 2.06-.94-2.06-.94-.94-2.06-.94 2.06-2.06.94zm-11 1L8.5 8.5l.94-2.06 2.06-.94-2.06-.94L8.5 2.5l-.94 2.06-2.06.94zm10 10l.94 2.06.94-2.06 2.06-.94-2.06-.94-.94-2.06-.94 2.06-2.06.94z\"/><path d=\"M17.41 7.96l-1.37-1.37c-.4-.4-.92-.59-1.43-.59-.52 0-1.04.2-1.43.59L10.3 9.45l-7.72 7.72c-.78.78-.78 2.05 0 2.83L4 21.41c.39.39.9.59 1.41.59.51 0 1.02-.2 1.41-.59l7.78-7.78 2.81-2.81c.8-.78.8-2.07 0-2.86zM5.41 20L4 18.59l7.72-7.72 1.47 1.35L5.41 20z\"/>\n",
              "  </svg>\n",
              "      </button>\n",
              "      \n",
              "  <style>\n",
              "    .colab-df-container {\n",
              "      display:flex;\n",
              "      flex-wrap:wrap;\n",
              "      gap: 12px;\n",
              "    }\n",
              "\n",
              "    .colab-df-convert {\n",
              "      background-color: #E8F0FE;\n",
              "      border: none;\n",
              "      border-radius: 50%;\n",
              "      cursor: pointer;\n",
              "      display: none;\n",
              "      fill: #1967D2;\n",
              "      height: 32px;\n",
              "      padding: 0 0 0 0;\n",
              "      width: 32px;\n",
              "    }\n",
              "\n",
              "    .colab-df-convert:hover {\n",
              "      background-color: #E2EBFA;\n",
              "      box-shadow: 0px 1px 2px rgba(60, 64, 67, 0.3), 0px 1px 3px 1px rgba(60, 64, 67, 0.15);\n",
              "      fill: #174EA6;\n",
              "    }\n",
              "\n",
              "    [theme=dark] .colab-df-convert {\n",
              "      background-color: #3B4455;\n",
              "      fill: #D2E3FC;\n",
              "    }\n",
              "\n",
              "    [theme=dark] .colab-df-convert:hover {\n",
              "      background-color: #434B5C;\n",
              "      box-shadow: 0px 1px 3px 1px rgba(0, 0, 0, 0.15);\n",
              "      filter: drop-shadow(0px 1px 2px rgba(0, 0, 0, 0.3));\n",
              "      fill: #FFFFFF;\n",
              "    }\n",
              "  </style>\n",
              "\n",
              "      <script>\n",
              "        const buttonEl =\n",
              "          document.querySelector('#df-4061f71c-2e86-45b7-adb8-506d8d75c2f4 button.colab-df-convert');\n",
              "        buttonEl.style.display =\n",
              "          google.colab.kernel.accessAllowed ? 'block' : 'none';\n",
              "\n",
              "        async function convertToInteractive(key) {\n",
              "          const element = document.querySelector('#df-4061f71c-2e86-45b7-adb8-506d8d75c2f4');\n",
              "          const dataTable =\n",
              "            await google.colab.kernel.invokeFunction('convertToInteractive',\n",
              "                                                     [key], {});\n",
              "          if (!dataTable) return;\n",
              "\n",
              "          const docLinkHtml = 'Like what you see? Visit the ' +\n",
              "            '<a target=\"_blank\" href=https://colab.research.google.com/notebooks/data_table.ipynb>data table notebook</a>'\n",
              "            + ' to learn more about interactive tables.';\n",
              "          element.innerHTML = '';\n",
              "          dataTable['output_type'] = 'display_data';\n",
              "          await google.colab.output.renderOutput(dataTable, element);\n",
              "          const docLink = document.createElement('div');\n",
              "          docLink.innerHTML = docLinkHtml;\n",
              "          element.appendChild(docLink);\n",
              "        }\n",
              "      </script>\n",
              "    </div>\n",
              "  </div>\n",
              "  "
            ]
          },
          "metadata": {},
          "execution_count": 60
        }
      ]
    },
    {
      "cell_type": "code",
      "source": [
        "# Memfilter dataframe untuk hanya menyimpan pokemon Legendary\n",
        "a = df.query('is_legendary == 1')\n",
        "\n",
        "# Mengambil overall stat terendah dari dataframe yang sudah difilter\n",
        "weakest_legend = a.nsmallest(1,'overall_stat')\n",
        "\n",
        "# Menampilkan nama, tipe, overall stat, dan status legendary\n",
        "weakest_legend[['name']+['type1']+['overall_stat']+['is_legendary']]"
      ],
      "metadata": {
        "colab": {
          "base_uri": "https://localhost:8080/",
          "height": 81
        },
        "id": "Psx-xiObLOiZ",
        "outputId": "899a7445-864f-4b2f-a6f3-494add20cc94"
      },
      "execution_count": 61,
      "outputs": [
        {
          "output_type": "execute_result",
          "data": {
            "text/plain": [
              "       name    type1  overall_stat  is_legendary\n",
              "333  Cosmog  psychic           200             1"
            ],
            "text/html": [
              "\n",
              "  <div id=\"df-c538c4e5-6469-4f3e-95b3-f3bf8405bbd8\">\n",
              "    <div class=\"colab-df-container\">\n",
              "      <div>\n",
              "<style scoped>\n",
              "    .dataframe tbody tr th:only-of-type {\n",
              "        vertical-align: middle;\n",
              "    }\n",
              "\n",
              "    .dataframe tbody tr th {\n",
              "        vertical-align: top;\n",
              "    }\n",
              "\n",
              "    .dataframe thead th {\n",
              "        text-align: right;\n",
              "    }\n",
              "</style>\n",
              "<table border=\"1\" class=\"dataframe\">\n",
              "  <thead>\n",
              "    <tr style=\"text-align: right;\">\n",
              "      <th></th>\n",
              "      <th>name</th>\n",
              "      <th>type1</th>\n",
              "      <th>overall_stat</th>\n",
              "      <th>is_legendary</th>\n",
              "    </tr>\n",
              "  </thead>\n",
              "  <tbody>\n",
              "    <tr>\n",
              "      <th>333</th>\n",
              "      <td>Cosmog</td>\n",
              "      <td>psychic</td>\n",
              "      <td>200</td>\n",
              "      <td>1</td>\n",
              "    </tr>\n",
              "  </tbody>\n",
              "</table>\n",
              "</div>\n",
              "      <button class=\"colab-df-convert\" onclick=\"convertToInteractive('df-c538c4e5-6469-4f3e-95b3-f3bf8405bbd8')\"\n",
              "              title=\"Convert this dataframe to an interactive table.\"\n",
              "              style=\"display:none;\">\n",
              "        \n",
              "  <svg xmlns=\"http://www.w3.org/2000/svg\" height=\"24px\"viewBox=\"0 0 24 24\"\n",
              "       width=\"24px\">\n",
              "    <path d=\"M0 0h24v24H0V0z\" fill=\"none\"/>\n",
              "    <path d=\"M18.56 5.44l.94 2.06.94-2.06 2.06-.94-2.06-.94-.94-2.06-.94 2.06-2.06.94zm-11 1L8.5 8.5l.94-2.06 2.06-.94-2.06-.94L8.5 2.5l-.94 2.06-2.06.94zm10 10l.94 2.06.94-2.06 2.06-.94-2.06-.94-.94-2.06-.94 2.06-2.06.94z\"/><path d=\"M17.41 7.96l-1.37-1.37c-.4-.4-.92-.59-1.43-.59-.52 0-1.04.2-1.43.59L10.3 9.45l-7.72 7.72c-.78.78-.78 2.05 0 2.83L4 21.41c.39.39.9.59 1.41.59.51 0 1.02-.2 1.41-.59l7.78-7.78 2.81-2.81c.8-.78.8-2.07 0-2.86zM5.41 20L4 18.59l7.72-7.72 1.47 1.35L5.41 20z\"/>\n",
              "  </svg>\n",
              "      </button>\n",
              "      \n",
              "  <style>\n",
              "    .colab-df-container {\n",
              "      display:flex;\n",
              "      flex-wrap:wrap;\n",
              "      gap: 12px;\n",
              "    }\n",
              "\n",
              "    .colab-df-convert {\n",
              "      background-color: #E8F0FE;\n",
              "      border: none;\n",
              "      border-radius: 50%;\n",
              "      cursor: pointer;\n",
              "      display: none;\n",
              "      fill: #1967D2;\n",
              "      height: 32px;\n",
              "      padding: 0 0 0 0;\n",
              "      width: 32px;\n",
              "    }\n",
              "\n",
              "    .colab-df-convert:hover {\n",
              "      background-color: #E2EBFA;\n",
              "      box-shadow: 0px 1px 2px rgba(60, 64, 67, 0.3), 0px 1px 3px 1px rgba(60, 64, 67, 0.15);\n",
              "      fill: #174EA6;\n",
              "    }\n",
              "\n",
              "    [theme=dark] .colab-df-convert {\n",
              "      background-color: #3B4455;\n",
              "      fill: #D2E3FC;\n",
              "    }\n",
              "\n",
              "    [theme=dark] .colab-df-convert:hover {\n",
              "      background-color: #434B5C;\n",
              "      box-shadow: 0px 1px 3px 1px rgba(0, 0, 0, 0.15);\n",
              "      filter: drop-shadow(0px 1px 2px rgba(0, 0, 0, 0.3));\n",
              "      fill: #FFFFFF;\n",
              "    }\n",
              "  </style>\n",
              "\n",
              "      <script>\n",
              "        const buttonEl =\n",
              "          document.querySelector('#df-c538c4e5-6469-4f3e-95b3-f3bf8405bbd8 button.colab-df-convert');\n",
              "        buttonEl.style.display =\n",
              "          google.colab.kernel.accessAllowed ? 'block' : 'none';\n",
              "\n",
              "        async function convertToInteractive(key) {\n",
              "          const element = document.querySelector('#df-c538c4e5-6469-4f3e-95b3-f3bf8405bbd8');\n",
              "          const dataTable =\n",
              "            await google.colab.kernel.invokeFunction('convertToInteractive',\n",
              "                                                     [key], {});\n",
              "          if (!dataTable) return;\n",
              "\n",
              "          const docLinkHtml = 'Like what you see? Visit the ' +\n",
              "            '<a target=\"_blank\" href=https://colab.research.google.com/notebooks/data_table.ipynb>data table notebook</a>'\n",
              "            + ' to learn more about interactive tables.';\n",
              "          element.innerHTML = '';\n",
              "          dataTable['output_type'] = 'display_data';\n",
              "          await google.colab.output.renderOutput(dataTable, element);\n",
              "          const docLink = document.createElement('div');\n",
              "          docLink.innerHTML = docLinkHtml;\n",
              "          element.appendChild(docLink);\n",
              "        }\n",
              "      </script>\n",
              "    </div>\n",
              "  </div>\n",
              "  "
            ]
          },
          "metadata": {},
          "execution_count": 61
        }
      ]
    },
    {
      "cell_type": "markdown",
      "source": [
        "Hmm saya tidak menyangka bahwa perbedaannya bisa sangat jauh, _Tyranitar_ merupakan pokemon non-legendary terkuat dengan overall stat 700 sedangkan _Cosmog_ merupakan pokemon legendary terlemah dengan overall stat 200\n",
        "\n",
        "Setelah melihat data diatas, ternyata ada pokemon non legendary yang jauh lebih kuat dari pokemon legendary, lantas muncul pertanyaan lain. \"Apakah overall_stat bukan penentu status legendary pokemon? apakah ada perbedaan overall_stat pokemon legendary dengan pokemon non-legendary?\n",
        "\n",
        "Untuk menjawab pertanyaan tersebut, saya akan melakukan **uji hipotesis**."
      ],
      "metadata": {
        "id": "Ledz0ALoMg_4"
      }
    },
    {
      "cell_type": "markdown",
      "source": [
        "Null Hypothesisnya (H0) claim bahwa tidak ada perbedaan signifikan antara overall stat dari  pokemon legendary dan pokemon non-legendary, dan Hypothesis alternatifnya (H1) menunjukkan adanya perbedaan yang signifikan\n",
        "\n",
        "H0 : rata-rata overall_stat antara pokemon legendary dan non-legendary adalah sama\n",
        "\n",
        "H1 : rata-rata overall_stat antara pokemon legendary dan non-legendary tidak sama"
      ],
      "metadata": {
        "id": "SD6aYHbZcJ0G"
      }
    },
    {
      "cell_type": "code",
      "source": [
        "# Memfilter dataframe untuk hanya menyimpan pokemon legendary dan non-legendary\n",
        "legendary = df.query('is_legendary == 1')\n",
        "ordinary = df.query('is_legendary == 0')\n",
        "\n",
        "# Mencari mean dari kedua jenis pokemon\n",
        "legendary_mean = legendary['overall_stat'].mean()\n",
        "ordinary_mean = ordinary['overall_stat'].mean()\n",
        "\n",
        "# Mencari standard deviation antara kedua jenis pokemon\n",
        "legendary_std = legendary['overall_stat'].std()\n",
        "ordinary_std = ordinary['overall_stat'].std()\n",
        "\n",
        "# Jumlah pokemon pada data\n",
        "n_legendary = len(legendary)\n",
        "n_ordinary = len(ordinary)\n",
        "\n",
        "# Menghitung t-value\n",
        "t_value = (legendary_mean - ordinary_mean) / sqrt((legendary_std**2 / n_legendary) + (ordinary_std**2 / n_ordinary))**0.5\n",
        "\n",
        "# degrees of freedom\n",
        "defree = n_legendary + n_ordinary - 2\n",
        "\n",
        "# significance level\n",
        "alpha = 0.05\n",
        "\n",
        "# menghitung critical value dari two tailed t-test\n",
        "critical_value = stats.t.ppf(1 - alpha/2, defree)\n",
        "\n",
        "# Menghitung p-value\n",
        "p_value = 2 * (1 - stats.t.cdf(abs(t_value), defree))\n",
        "\n",
        "# Membandingkan t-value dengan critical valude dan p-value dengan alpha\n",
        "if abs(t_value) > critical_value or p_value < alpha:\n",
        "    print(\"Tolak null hypothesis.\")\n",
        "    print(\"Ada perbedaan signifikan antara rata-rata dari overall stat Pokemon legendary dan pokemon non-legendary.\")\n",
        "else:\n",
        "    print(\"Gagal tolak null hypothesis.\")\n",
        "    print(\"Tidak ada perbedaan signifikan antara rata-rata dari overall stat Pokemon legendary dan pokemon non-legendary.\")"
      ],
      "metadata": {
        "colab": {
          "base_uri": "https://localhost:8080/"
        },
        "id": "CmfVgjo3cLZO",
        "outputId": "7001aa70-9b27-4108-f515-a8e102f8730e"
      },
      "execution_count": 62,
      "outputs": [
        {
          "output_type": "stream",
          "name": "stdout",
          "text": [
            "Tolak null hypothesis.\n",
            "Ada perbedaan signifikan antara rata-rata dari overall stat Pokemon legendary dan pokemon non-legendary.\n"
          ]
        }
      ]
    },
    {
      "cell_type": "markdown",
      "source": [
        "Dan untuk visualisasinya,"
      ],
      "metadata": {
        "id": "xVqXZPCok31a"
      }
    },
    {
      "cell_type": "code",
      "source": [
        "# Membuat plot untuk kedua jenis pokemon\n",
        "sns.histplot(data=legendary, x='overall_stat', bins=20, kde=True, color='red', label='Legendary')\n",
        "sns.histplot(data=ordinary, x='overall_stat', bins=20, kde=True, color='blue', label='Non-Legendary')\n",
        "\n",
        "# Memberi label\n",
        "plt.xlabel('Overall Stat')\n",
        "plt.ylabel('Frekuensi')\n",
        "plt.title('Distribusi Overall Stat untuk Pokémon Legendary and Non-Legendary')\n",
        "plt.legend()\n",
        "\n",
        "# Menampilkan plot\n",
        "plt.show()"
      ],
      "metadata": {
        "colab": {
          "base_uri": "https://localhost:8080/",
          "height": 472
        },
        "id": "jMiA61F8P_Wa",
        "outputId": "a0257cf5-b23e-43c9-c837-23a693b3801c"
      },
      "execution_count": 63,
      "outputs": [
        {
          "output_type": "display_data",
          "data": {
            "text/plain": [
              "<Figure size 640x480 with 1 Axes>"
            ],
            "image/png": "[encoded data removed]"
          },
          "metadata": {}
        }
      ]
    },
    {
      "cell_type": "markdown",
      "source": [
        "Sesuai uji hipotesis diatas, \"Ada perbedaan signifikan antara rata-rata dari overall stat Pokemon legendary dan pokemon non-legendary\". Artinya clear bahwa pokemon legendary mempunyai overall stat yang berbeda dari pokemon biasa, dan status legendaris artinya merupakan golongan khusus yang berisikan pokemon-pokemon tertentu saja.\n",
        "\n",
        "Dengan ini, bisa disimpulkan dalam pertandingan pokemon, pokemon legendary akan menjadi pilihan terbaik untuk meminimalisir kekalahan. Namun ada aspek yang harus dipertimbangkan lagi, yaitu capture rate. Saya yakin untuk mendapatkan pokemon legendary bukanlah hal yang mudah, untuk itu saya ingin lihat lagi bagaimana korelasi antara capture rate dengan status legendary pokemon."
      ],
      "metadata": {
        "id": "ytHt3CeaORM6"
      }
    },
    {
      "cell_type": "code",
      "source": [
        "# Menghitung korelasi antara capture rate dengan is_legendary\n",
        "korelasi = df['capture_rate'].corr(df['is_legendary'])\n",
        "\n",
        "# Menampilkan hasil\n",
        "print(korelasi)"
      ],
      "metadata": {
        "colab": {
          "base_uri": "https://localhost:8080/"
        },
        "id": "iwbNoperQ97K",
        "outputId": "e0fd99b7-f024-4654-fdc5-255786122fe5"
      },
      "execution_count": 64,
      "outputs": [
        {
          "output_type": "stream",
          "name": "stdout",
          "text": [
            "-0.32767723024167805\n"
          ]
        }
      ]
    },
    {
      "cell_type": "markdown",
      "source": [
        "-0.32 mengindikasikan rendahnya korelasi negatif diantara kedua variabel, menunjukkan tidak ada kecenderungan yang kuat antara capture rate dengan status legendary. Jika status legendary bukan penentunya maka apa yang menentukan susah atau mudahnya pokemon untuk didapatkan?, **bagaimana dengan korelasi antara capture rate dengan overall statnya?**"
      ],
      "metadata": {
        "id": "ePLcVUt0u6Yh"
      }
    },
    {
      "cell_type": "code",
      "source": [
        "# Menghitung korelasi antara capture rate dengan overall stat\n",
        "korelasi = df['capture_rate'].corr(df['overall_stat'])\n",
        "\n",
        "# Menampilkan hasil\n",
        "print(korelasi)"
      ],
      "metadata": {
        "colab": {
          "base_uri": "https://localhost:8080/"
        },
        "id": "tcbZPMTBvRbI",
        "outputId": "89afc791-a7c4-421c-f54c-4f757348ecb3"
      },
      "execution_count": 65,
      "outputs": [
        {
          "output_type": "stream",
          "name": "stdout",
          "text": [
            "-0.7122750889876264\n"
          ]
        }
      ]
    },
    {
      "cell_type": "markdown",
      "source": [
        "ketika korelasi koefisien mendekati -1 maka semakin mengindikasikan korelasi negatif, yang artinya ketika 1 variabel meningkat maka variabel lainnya nya akan menurun. Seperti yang terlihat dari output diatas, korelasinya mendekati -1.\n",
        "\n",
        "Output menunjukkan -0.7076 artinya ada kecenderungan yang kuat bahwa semakin tinggi 'overall_stat', maka 'capture_rate' akan menurun. Atau dengan kata lain, semakin tinggi overall stat maka akan semakin susah pokemon untuk ditangkap, dan vice versa."
      ],
      "metadata": {
        "id": "gc8eWwS4VwsX"
      }
    },
    {
      "cell_type": "markdown",
      "source": [
        "## **Conclusion**"
      ],
      "metadata": {
        "id": "BA65VGyGj2Xx"
      }
    },
    {
      "cell_type": "markdown",
      "source": [
        "Dari berbagai penjabaran diatas, dapat saya simpulkan bahwa pokemon memiliki karakteristik unik masing-masing, banyak aspek yang harus dipertimbangkan untuk menentukan mana pokemon yang terbaik.\n",
        "\n",
        "Berikut beberapa poin kesimpulan yang bisa saya tarik :\n",
        "* gunakan pokemon Mewtwo dan Rayquaza karena mereka merupakan pokemon dengan overall base stat tertinggi\n",
        "* Ada beberapa Pokemon non-legendary yang memiliki overall_stat yang lebih tinggi daripada beberapa Pokemon legendary. Kekuatan relatif sebuah Pokemon tidak hanya ditentukan oleh status legendaris atau non-legendarisnya.\n",
        "* Menggunakan pokemon dengan tipe _\"dragon\"_ merupakan pilihan yang bagus karena memiliki overall_stat yang relatif tinggi. dan hindari menggunakan pokemon tipe \"bug\" karena kebanyakan pokemon tersebut memiliki overall stat yang relatif kecil"
      ],
      "metadata": {
        "id": "Lzjc21Nnvq8i"
      }
    }
  ]
}